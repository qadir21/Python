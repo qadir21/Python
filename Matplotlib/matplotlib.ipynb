{
 "cells": [
  {
   "cell_type": "markdown",
   "id": "8fac1e09",
   "metadata": {},
   "source": [
    "# Matplotlib"
   ]
  },
  {
   "cell_type": "markdown",
   "id": "2a6be18f",
   "metadata": {},
   "source": []
  }
 ],
 "metadata": {
  "language_info": {
   "name": "python"
  }
 },
 "nbformat": 4,
 "nbformat_minor": 5
}
