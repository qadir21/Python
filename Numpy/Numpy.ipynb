{
 "cells": [
  {
   "cell_type": "markdown",
   "id": "9e3be3d8",
   "metadata": {},
   "source": [
    "# Numpy Array and Basics \n",
    "learn about numpy with chai aur code"
   ]
  },
  {
   "cell_type": "code",
   "execution_count": 2,
   "id": "f8ba00de",
   "metadata": {},
   "outputs": [],
   "source": [
    "import numpy as np"
   ]
  },
  {
   "cell_type": "markdown",
   "id": "05076ec4",
   "metadata": {},
   "source": [
    "## Creating array from list"
   ]
  },
  {
   "cell_type": "code",
   "execution_count": null,
   "id": "c2615a00",
   "metadata": {},
   "outputs": [
    {
     "name": "stdout",
     "output_type": "stream",
     "text": [
      "1D array: [1 2 3 4 5]\n"
     ]
    },
    {
     "ename": "TypeError",
     "evalue": "Field elements must be 2- or 3-tuples, got '4'",
     "output_type": "error",
     "traceback": [
      "\u001b[31m---------------------------------------------------------------------------\u001b[39m",
      "\u001b[31mTypeError\u001b[39m                                 Traceback (most recent call last)",
      "\u001b[36mCell\u001b[39m\u001b[36m \u001b[39m\u001b[32mIn[2]\u001b[39m\u001b[32m, line 4\u001b[39m\n\u001b[32m      1\u001b[39m arr1d = np.array([\u001b[32m1\u001b[39m, \u001b[32m2\u001b[39m, \u001b[32m3\u001b[39m, \u001b[32m4\u001b[39m, \u001b[32m5\u001b[39m])\n\u001b[32m      2\u001b[39m \u001b[38;5;28mprint\u001b[39m(\u001b[33m'\u001b[39m\u001b[33m1D array:\u001b[39m\u001b[33m'\u001b[39m, arr1d)\n\u001b[32m----> \u001b[39m\u001b[32m4\u001b[39m arr2d = \u001b[43mnp\u001b[49m\u001b[43m.\u001b[49m\u001b[43marray\u001b[49m\u001b[43m(\u001b[49m\u001b[43m[\u001b[49m\u001b[32;43m1\u001b[39;49m\u001b[43m,\u001b[49m\u001b[43m \u001b[49m\u001b[32;43m2\u001b[39;49m\u001b[43m,\u001b[49m\u001b[43m \u001b[49m\u001b[32;43m3\u001b[39;49m\u001b[43m]\u001b[49m\u001b[43m,\u001b[49m\u001b[43m \u001b[49m\u001b[43m[\u001b[49m\u001b[32;43m4\u001b[39;49m\u001b[43m,\u001b[49m\u001b[43m \u001b[49m\u001b[32;43m5\u001b[39;49m\u001b[43m,\u001b[49m\u001b[43m \u001b[49m\u001b[32;43m6\u001b[39;49m\u001b[43m]\u001b[49m\u001b[43m)\u001b[49m\n\u001b[32m      5\u001b[39m \u001b[38;5;28mprint\u001b[39m(\u001b[33m'\u001b[39m\u001b[33m1D array:\u001b[39m\u001b[33m'\u001b[39m, arr1d)\n",
      "\u001b[31mTypeError\u001b[39m: Field elements must be 2- or 3-tuples, got '4'"
     ]
    }
   ],
   "source": [
    "arr1d = np.array([1, 2, 3, 4, 5])\n",
    "print('1D array:', arr1d)\n",
    "\n",
    "arr2d = np.array([1, 2, 3], [4, 5, 6])\n",
    "print('2D array:', arr1d)"
   ]
  },
  {
   "cell_type": "code",
   "execution_count": 4,
   "id": "49eb95b6",
   "metadata": {},
   "outputs": [
    {
     "name": "stdout",
     "output_type": "stream",
     "text": [
      "2D array: [[1 2 3]\n",
      " [4 5 6]]\n"
     ]
    }
   ],
   "source": [
    "arr2d = np.array([[1, 2, 3], [4, 5, 6]])\n",
    "print('2D array:', arr2d)"
   ]
  },
  {
   "cell_type": "markdown",
   "id": "018d5b87",
   "metadata": {},
   "source": [
    "## List vs Numpy Array"
   ]
  },
  {
   "cell_type": "code",
   "execution_count": null,
   "id": "b8216b25",
   "metadata": {},
   "outputs": [
    {
     "name": "stdout",
     "output_type": "stream",
     "text": [
      "Python list multiplication  [1, 2, 3, 1, 2, 3]\n",
      "Numpy array multiplication  [1, 2, 3, 1, 2, 3]\n"
     ]
    }
   ],
   "source": [
    "pyList = [1, 2, 3]\n",
    "print('Python list multiplication ', pyList * 2) ## repetation\n",
    "\n",
    "npArray = [1, 2, 3]\n",
    "print('Numpy array multiplication ', npArray * 2) ##  element wise multiplication"
   ]
  },
  {
   "cell_type": "code",
   "execution_count": 4,
   "id": "4bd0552f",
   "metadata": {},
   "outputs": [
    {
     "name": "stdout",
     "output_type": "stream",
     "text": [
      "\n",
      " List operation time: 0.5413892269134521\n",
      "\n",
      " Numpy Array operation time: 0.018507003784179688\n"
     ]
    }
   ],
   "source": [
    "import time\n",
    "start1 = time.time()\n",
    "pyList = [i * 2 for i in range(10000000)]\n",
    "print('\\n List operation time:', time.time() - start1)\n",
    "\n",
    "start2 = time.time()\n",
    "npArray = np.arange(10000000) * 2\n",
    "print('\\n Numpy Array operation time:', time.time() - start2)"
   ]
  },
  {
   "cell_type": "markdown",
   "id": "fc5fb0dd",
   "metadata": {},
   "source": [
    "## Creating Array From Scretch"
   ]
  },
  {
   "cell_type": "code",
   "execution_count": 5,
   "id": "b8e5bc7a",
   "metadata": {},
   "outputs": [],
   "source": [
    "zeros = np.zeros((3, 4))"
   ]
  },
  {
   "cell_type": "code",
   "execution_count": 8,
   "id": "3e66b936",
   "metadata": {},
   "outputs": [
    {
     "name": "stdout",
     "output_type": "stream",
     "text": [
      "Zeros Array\n",
      " [[0. 0. 0. 0.]\n",
      " [0. 0. 0. 0.]\n",
      " [0. 0. 0. 0.]]\n"
     ]
    }
   ],
   "source": [
    "print('Zeros Array\\n', zeros)\n"
   ]
  },
  {
   "cell_type": "code",
   "execution_count": 10,
   "id": "2702672b",
   "metadata": {},
   "outputs": [
    {
     "name": "stdout",
     "output_type": "stream",
     "text": [
      "Ones Array\n",
      " [[1. 1. 1. 1.]\n",
      " [1. 1. 1. 1.]\n",
      " [1. 1. 1. 1.]]\n"
     ]
    }
   ],
   "source": [
    "ones = np.ones((3,4))\n",
    "print('Ones Array\\n', ones)"
   ]
  },
  {
   "cell_type": "code",
   "execution_count": 11,
   "id": "d5cfe9a8",
   "metadata": {},
   "outputs": [
    {
     "name": "stdout",
     "output_type": "stream",
     "text": [
      "Full Array\n",
      " [[7 7]\n",
      " [7 7]]\n"
     ]
    }
   ],
   "source": [
    "full = np.full((2, 2), 7)\n",
    "print('Full Array\\n', full)"
   ]
  },
  {
   "cell_type": "code",
   "execution_count": 12,
   "id": "b690a41f",
   "metadata": {},
   "outputs": [
    {
     "name": "stdout",
     "output_type": "stream",
     "text": [
      "Random Array\n",
      " [[0.16822082 0.25387128 0.50515073]\n",
      " [0.35800897 0.7929628  0.5067849 ]]\n"
     ]
    }
   ],
   "source": [
    "random = np.random.random((2, 3))\n",
    "print('Random Array\\n', random)"
   ]
  },
  {
   "cell_type": "code",
   "execution_count": 13,
   "id": "626a6fcb",
   "metadata": {},
   "outputs": [],
   "source": [
    "sequence = np.arange(0, 10, 2)"
   ]
  },
  {
   "cell_type": "code",
   "execution_count": 14,
   "id": "4e336d3b",
   "metadata": {},
   "outputs": [
    {
     "name": "stdout",
     "output_type": "stream",
     "text": [
      "Sequence Array\n",
      " [0 2 4 6 8]\n"
     ]
    }
   ],
   "source": [
    "print('Sequence Array\\n', sequence)\n"
   ]
  },
  {
   "cell_type": "markdown",
   "id": "ac9e0836",
   "metadata": {},
   "source": [
    "## Vector, Matrices and Tensor"
   ]
  },
  {
   "cell_type": "code",
   "execution_count": 15,
   "id": "9d8bb375",
   "metadata": {},
   "outputs": [
    {
     "name": "stdout",
     "output_type": "stream",
     "text": [
      "Vector: [1 2 3 4]\n"
     ]
    }
   ],
   "source": [
    "vector = np.array([1, 2, 3, 4])\n",
    "print('Vector:', vector)"
   ]
  },
  {
   "cell_type": "code",
   "execution_count": 16,
   "id": "e12fda1c",
   "metadata": {},
   "outputs": [
    {
     "name": "stdout",
     "output_type": "stream",
     "text": [
      "Matrix: [[1 2 3]\n",
      " [4 5 6]]\n"
     ]
    }
   ],
   "source": [
    "matrix = np.array([[1, 2, 3], [4, 5, 6]])\n",
    "print('Matrix:', matrix)"
   ]
  },
  {
   "cell_type": "code",
   "execution_count": 17,
   "id": "32be3b1d",
   "metadata": {},
   "outputs": [
    {
     "name": "stdout",
     "output_type": "stream",
     "text": [
      "[[[1 2]\n",
      "  [3 4]]\n",
      "\n",
      " [[5 6]\n",
      "  [7 8]]]\n"
     ]
    }
   ],
   "source": [
    "tensor = np.array([[[1, 2], [3, 4]], [[5, 6], [7, 8]]])\n",
    "print(tensor)"
   ]
  },
  {
   "cell_type": "markdown",
   "id": "7d0cbd33",
   "metadata": {},
   "source": [
    "## Array Properties"
   ]
  },
  {
   "cell_type": "code",
   "execution_count": 3,
   "id": "bad33102",
   "metadata": {},
   "outputs": [
    {
     "name": "stdout",
     "output_type": "stream",
     "text": [
      "shape (2, 3)\n",
      "Dimension 2\n",
      "Size 6\n",
      "DataType int64\n"
     ]
    }
   ],
   "source": [
    "array = np.array([[1, 2, 3], [4, 5, 6]])\n",
    "print(\"shape\", array.shape)\n",
    "print(\"Dimension\", array.ndim)\n",
    "print(\"Size\", array.size)\n",
    "print(\"DataType\", array.dtype)"
   ]
  },
  {
   "cell_type": "code",
   "execution_count": 4,
   "id": "6f8a25e9",
   "metadata": {},
   "outputs": [],
   "source": [
    "array = np.array([[1, 2, 3], [4, 5, True]])"
   ]
  },
  {
   "cell_type": "code",
   "execution_count": 5,
   "id": "0a286421",
   "metadata": {},
   "outputs": [
    {
     "name": "stdout",
     "output_type": "stream",
     "text": [
      "shape (2, 3)\n",
      "Dimension 2\n",
      "Size 6\n",
      "DataType int64\n"
     ]
    }
   ],
   "source": [
    "print(\"shape\", array.shape)\n",
    "print(\"Dimension\", array.ndim)\n",
    "print(\"Size\", array.size)\n",
    "print(\"DataType\", array.dtype)"
   ]
  },
  {
   "cell_type": "code",
   "execution_count": 6,
   "id": "efbe7d81",
   "metadata": {},
   "outputs": [
    {
     "name": "stdout",
     "output_type": "stream",
     "text": [
      "shape (2, 3)\n",
      "Dimension 2\n",
      "Size 6\n",
      "DataType float64\n"
     ]
    }
   ],
   "source": [
    "array = np.array([[1, 2, 3], [4, 5, 6.8]])\n",
    "print(\"shape\", array.shape)\n",
    "print(\"Dimension\", array.ndim)\n",
    "print(\"Size\", array.size)\n",
    "print(\"DataType\", array.dtype)"
   ]
  },
  {
   "cell_type": "code",
   "execution_count": 7,
   "id": "bd2822af",
   "metadata": {},
   "outputs": [
    {
     "name": "stdout",
     "output_type": "stream",
     "text": [
      "shape (2, 3)\n",
      "Dimension 2\n",
      "Size 6\n",
      "DataType <U21\n"
     ]
    }
   ],
   "source": [
    "array = np.array([[1, 2, 3], [4, 5, \"6.8\"]])\n",
    "print(\"shape\", array.shape)\n",
    "print(\"Dimension\", array.ndim)\n",
    "print(\"Size\", array.size)\n",
    "print(\"DataType\", array.dtype)"
   ]
  },
  {
   "cell_type": "markdown",
   "id": "e2f869f9",
   "metadata": {},
   "source": [
    "# Array Reshaping"
   ]
  },
  {
   "cell_type": "code",
   "execution_count": 8,
   "id": "7cafdd91",
   "metadata": {},
   "outputs": [
    {
     "name": "stdout",
     "output_type": "stream",
     "text": [
      "Original array [ 0  1  2  3  4  5  6  7  8  9 10 11]\n"
     ]
    }
   ],
   "source": [
    "arr = np.arange(12)\n",
    "print(\"Original array\", arr)"
   ]
  },
  {
   "cell_type": "code",
   "execution_count": 9,
   "id": "244f2db8",
   "metadata": {},
   "outputs": [
    {
     "name": "stdout",
     "output_type": "stream",
     "text": [
      "Reshaped array  [[ 0  1  2  3]\n",
      " [ 4  5  6  7]\n",
      " [ 8  9 10 11]]\n"
     ]
    }
   ],
   "source": [
    "reshaped = arr.reshape((3, 4))\n",
    "print(\"Reshaped array \", reshaped)"
   ]
  },
  {
   "cell_type": "code",
   "execution_count": 11,
   "id": "c2faf454",
   "metadata": {},
   "outputs": [
    {
     "name": "stdout",
     "output_type": "stream",
     "text": [
      "Flate Array [ 0  1  2  3  4  5  6  7  8  9 10 11]\n"
     ]
    }
   ],
   "source": [
    "flattend = reshaped.flatten()\n",
    "print('Flate Array', flattend)"
   ]
  },
  {
   "cell_type": "code",
   "execution_count": null,
   "id": "7b1dc57d",
   "metadata": {},
   "outputs": [
    {
     "name": "stdout",
     "output_type": "stream",
     "text": [
      "Raveld Array [ 0  1  2  3  4  5  6  7  8  9 10 11]\n"
     ]
    }
   ],
   "source": [
    "## ravel() return view instead of copy\n",
    "raveld = reshaped.ravel()\n",
    "print('Raveld Array', raveld)"
   ]
  },
  {
   "cell_type": "code",
   "execution_count": 13,
   "id": "81509b81",
   "metadata": {},
   "outputs": [
    {
     "name": "stdout",
     "output_type": "stream",
     "text": [
      "Transopse matrix [[ 0  4  8]\n",
      " [ 1  5  9]\n",
      " [ 2  6 10]\n",
      " [ 3  7 11]]\n"
     ]
    }
   ],
   "source": [
    "transpose = reshaped.T\n",
    "print(\"Transopse matrix\", transpose)"
   ]
  },
  {
   "cell_type": "code",
   "execution_count": 14,
   "id": "16fafdf8",
   "metadata": {},
   "outputs": [
    {
     "name": "stdout",
     "output_type": "stream",
     "text": [
      "Basic Slicing: [3 4 5 6 7]\n"
     ]
    }
   ],
   "source": [
    "arr = np.array([1, 2, 3, 4, 5, 6, 7, 8, 9, 10])\n",
    "print('Basic Slicing:' ,arr[2 : 7])"
   ]
  },
  {
   "cell_type": "code",
   "execution_count": 15,
   "id": "9b5434d1",
   "metadata": {},
   "outputs": [
    {
     "name": "stdout",
     "output_type": "stream",
     "text": [
      "With step [3 5 7]\n"
     ]
    }
   ],
   "source": [
    "print('With step', arr[2 : 8 : 2])"
   ]
  },
  {
   "cell_type": "code",
   "execution_count": 16,
   "id": "ee970266",
   "metadata": {},
   "outputs": [
    {
     "name": "stdout",
     "output_type": "stream",
     "text": [
      "Negative indexing: [9 7 5]\n"
     ]
    }
   ],
   "source": [
    "print('Negative indexing:', arr[-2 : -7 : -2])"
   ]
  },
  {
   "cell_type": "code",
   "execution_count": 17,
   "id": "2db7840c",
   "metadata": {},
   "outputs": [
    {
     "name": "stdout",
     "output_type": "stream",
     "text": [
      "2D array: [[1 2 3]\n",
      " [4 5 6]\n",
      " [7 8 9]]\n"
     ]
    }
   ],
   "source": [
    "arr_2d = np.array([[1, 2, 3], [4, 5, 6], [7, 8, 9]])\n",
    "print('2D array:', arr_2d)"
   ]
  },
  {
   "cell_type": "code",
   "execution_count": 19,
   "id": "034a63ea",
   "metadata": {},
   "outputs": [
    {
     "name": "stdout",
     "output_type": "stream",
     "text": [
      "spacific element: 6\n"
     ]
    }
   ],
   "source": [
    "print(\"spacific element:\", arr_2d[1, 2])"
   ]
  },
  {
   "cell_type": "code",
   "execution_count": 21,
   "id": "e264e799",
   "metadata": {},
   "outputs": [
    {
     "name": "stdout",
     "output_type": "stream",
     "text": [
      "Whole row: [4 5 6]\n"
     ]
    }
   ],
   "source": [
    "print('Whole row:', arr_2d[1])"
   ]
  },
  {
   "cell_type": "code",
   "execution_count": 22,
   "id": "5c5dc47b",
   "metadata": {},
   "outputs": [
    {
     "name": "stdout",
     "output_type": "stream",
     "text": [
      "Entire column: [2 5 8]\n"
     ]
    }
   ],
   "source": [
    "print('Entire column:', arr_2d[:, 1])"
   ]
  },
  {
   "cell_type": "markdown",
   "id": "d3ea7068",
   "metadata": {},
   "source": [
    "## Sorting"
   ]
  },
  {
   "cell_type": "code",
   "execution_count": 23,
   "id": "af4b8f8b",
   "metadata": {},
   "outputs": [
    {
     "name": "stdout",
     "output_type": "stream",
     "text": [
      "Unsorted: [3 1 5 2 9 6 4]\n",
      "Sorted: [1 2 3 4 5 6 9]\n"
     ]
    }
   ],
   "source": [
    "unsorted = np.array([3, 1, 5, 2, 9, 6, 4])\n",
    "print('Unsorted:', unsorted)\n",
    "print('Sorted:', np.sort(unsorted))"
   ]
  },
  {
   "cell_type": "code",
   "execution_count": null,
   "id": "8e9138ab",
   "metadata": {},
   "outputs": [
    {
     "name": "stdout",
     "output_type": "stream",
     "text": [
      "Sorted 2d array by column [[1 1]\n",
      " [2 2]\n",
      " [3 3]]\n"
     ]
    }
   ],
   "source": [
    "## spaecific sorted top to bottom\n",
    "unsorted_2d = np.array([[3, 1], [1, 2], [2, 3]])\n",
    "print('Sorted 2d array by column', np.sort(unsorted_2d, axis = 0)i)"
   ]
  },
  {
   "cell_type": "code",
   "execution_count": null,
   "id": "a5f671d6",
   "metadata": {},
   "outputs": [
    {
     "name": "stdout",
     "output_type": "stream",
     "text": [
      "Sorted 2d array by column [[1 3]\n",
      " [1 2]\n",
      " [2 3]]\n"
     ]
    }
   ],
   "source": [
    "unsorted_2d = np.array([[3, 1], [1, 2], [2, 3]])\n",
    "print('Sorted 2d array by column', np.sort(unsorted_2d, axis = 1)) ## left to right"
   ]
  },
  {
   "cell_type": "code",
   "execution_count": null,
   "id": "265e28ee",
   "metadata": {},
   "outputs": [
    {
     "name": "stdout",
     "output_type": "stream",
     "text": [
      "Even Number: [ 2  4  6  8 10]\n"
     ]
    }
   ],
   "source": [
    "## filter\n",
    "number = np.array([1, 2, 3, 4, 5, 6,7, 8, 9, 10])\n",
    "even_number = number[number % 2 == 0] ## expressions\n",
    "print('Even Number:', even_number)"
   ]
  },
  {
   "cell_type": "code",
   "execution_count": 29,
   "id": "60ff3253",
   "metadata": {},
   "outputs": [
    {
     "name": "stdout",
     "output_type": "stream",
     "text": [
      "Number greater than 5: [ 6  7  8  9 10]\n"
     ]
    }
   ],
   "source": [
    "## mask\n",
    "mask = number > 5\n",
    "print('Number greater than 5:', number[mask]) ## expressions"
   ]
  },
  {
   "cell_type": "code",
   "execution_count": 32,
   "id": "ab6b0a94",
   "metadata": {},
   "outputs": [
    {
     "name": "stdout",
     "output_type": "stream",
     "text": [
      "Number indices [1 3 5]\n"
     ]
    }
   ],
   "source": [
    "## fancy indexing vs np.where\n",
    "indices = [0, 2, 4]\n",
    "print('Number indices', number[indices])"
   ]
  },
  {
   "cell_type": "code",
   "execution_count": 34,
   "id": "6c01b7d2",
   "metadata": {},
   "outputs": [
    {
     "name": "stdout",
     "output_type": "stream",
     "text": [
      "(array([5, 6, 7, 8, 9]),)\n",
      "NP where: [ 6  7  8  9 10]\n"
     ]
    }
   ],
   "source": [
    "where_result = np.where(number > 5)\n",
    "print(where_result)\n",
    "print('NP where:',number[where_result])"
   ]
  },
  {
   "cell_type": "code",
   "execution_count": 39,
   "id": "4880d367",
   "metadata": {},
   "outputs": [
    {
     "name": "stdout",
     "output_type": "stream",
     "text": [
      "[ 1  2  3  4  5 24 28 32 36 40]\n"
     ]
    }
   ],
   "source": [
    "condition_array = np.where(number > 5, number * 4, number)\n",
    "print(condition_array)"
   ]
  },
  {
   "cell_type": "code",
   "execution_count": 40,
   "id": "1c3608c7",
   "metadata": {},
   "outputs": [
    {
     "name": "stdout",
     "output_type": "stream",
     "text": [
      "[False False False False False  True  True  True  True  True]\n"
     ]
    }
   ],
   "source": [
    "# if(number > 5)\n",
    "# {\n",
    "#     number * 4\n",
    "# }\n",
    "# else\n",
    "# {\n",
    "#     number\n",
    "# }\n",
    "condition_array = np.where(number > 5, True, False)\n",
    "print(condition_array)"
   ]
  },
  {
   "cell_type": "markdown",
   "id": "da3d767c",
   "metadata": {},
   "source": [
    "## Adding and removing data"
   ]
  },
  {
   "cell_type": "code",
   "execution_count": 41,
   "id": "1b18f106",
   "metadata": {},
   "outputs": [
    {
     "name": "stdout",
     "output_type": "stream",
     "text": [
      "[5 7 9]\n"
     ]
    }
   ],
   "source": [
    "arr1 = np.array([1, 2, 3])\n",
    "arr2 = np.array([4, 5, 6])\n",
    "\n",
    "## combined array\n",
    "combined = arr1 + arr2\n",
    "print(combined)"
   ]
  },
  {
   "cell_type": "code",
   "execution_count": 42,
   "id": "5f84ee07",
   "metadata": {},
   "outputs": [
    {
     "name": "stdout",
     "output_type": "stream",
     "text": [
      "[1 2 3 4 5 6]\n"
     ]
    }
   ],
   "source": [
    "combi = np.concatenate((arr1, arr2))\n",
    "print(combi)"
   ]
  },
  {
   "cell_type": "markdown",
   "id": "d6ca6f26",
   "metadata": {},
   "source": [
    "### Array Compatibility"
   ]
  },
  {
   "cell_type": "code",
   "execution_count": 43,
   "id": "63e71517",
   "metadata": {},
   "outputs": [
    {
     "name": "stdout",
     "output_type": "stream",
     "text": [
      "Compatiblity shapes: True\n"
     ]
    }
   ],
   "source": [
    "a = np.array([1,2, 3])\n",
    "b = np.array([4, 5, 6])\n",
    "c = np.array([7, 8, 9])\n",
    "print('Compatiblity shapes:', a.shape == b.shape)"
   ]
  },
  {
   "cell_type": "code",
   "execution_count": 44,
   "id": "fc73d635",
   "metadata": {},
   "outputs": [
    {
     "name": "stdout",
     "output_type": "stream",
     "text": [
      "Compatiblity shapes: False\n"
     ]
    }
   ],
   "source": [
    "a = np.array([1,2, 3])\n",
    "b = np.array([4, 5, 6, 0])\n",
    "c = np.array([7, 8, 9])\n",
    "print('Compatiblity shapes:', a.shape == b.shape)"
   ]
  },
  {
   "cell_type": "code",
   "execution_count": 46,
   "id": "54471e85",
   "metadata": {},
   "outputs": [
    {
     "name": "stdout",
     "output_type": "stream",
     "text": [
      "[[1 2]\n",
      " [3 4]]\n",
      "[[1 2]\n",
      " [3 4]\n",
      " [5 6]]\n"
     ]
    }
   ],
   "source": [
    "original = np.array([[1, 2], [3, 4]])\n",
    "new_row = np.array([[5, 6]])\n",
    "with_new_row = np.vstack((original, new_row))\n",
    "print(original)\n",
    "print(with_new_row)"
   ]
  },
  {
   "cell_type": "code",
   "execution_count": 47,
   "id": "b55b2d13",
   "metadata": {},
   "outputs": [
    {
     "name": "stdout",
     "output_type": "stream",
     "text": [
      "With new column: [[1 2 7]\n",
      " [3 4 8]]\n"
     ]
    }
   ],
   "source": [
    "new_column = np.array([[7], [8]])\n",
    "with_new_col = np.hstack((original, new_column))\n",
    "print(\"With new column:\",with_new_col)"
   ]
  },
  {
   "cell_type": "code",
   "execution_count": 51,
   "id": "ccffd6df",
   "metadata": {},
   "outputs": [
    {
     "name": "stdout",
     "output_type": "stream",
     "text": [
      "Array after deletion: [1 2 4 5]\n"
     ]
    }
   ],
   "source": [
    "arr = np.array([1, 2, 3, 4, 5])\n",
    "deleted = np.delete(arr, 2)\n",
    "print('Array after deletion:',deleted)"
   ]
  },
  {
   "cell_type": "markdown",
   "id": "9acfcdbf",
   "metadata": {},
   "source": [
    "# Data structure : [restaurant id, 2021, 2022, 203, 2024]\n",
    "sales_data = np.array([\n",
    "    [1, 150000, 180000, 220000, 250000], # paradise biryani\n",
    "    [2, 120000, 140000, 160000, 190000], # Beinging bites\n",
    "    [3, 200000, 230000, 260000, 300000], # Pizza Hub\n",
    "    [4, 180000, 210000, 240000, 270000], # Burger Point\n",
    "    [5, 160000, 185000, 205000, 230000]  # Chai Point\n",
    "])"
   ]
  },
  {
   "cell_type": "code",
   "execution_count": 52,
   "id": "20a89e3a",
   "metadata": {},
   "outputs": [],
   "source": [
    "import matplotlib.pyplot as plt"
   ]
  },
  {
   "cell_type": "code",
   "execution_count": null,
   "id": "1cc61e9a",
   "metadata": {},
   "outputs": [
    {
     "name": "stdout",
     "output_type": "stream",
     "text": [
      "========= Zomato sales analysis ==========\n",
      "Sales data shape (5, 5)\n"
     ]
    }
   ],
   "source": [
    "# Data structure : [restaurant id, 2021, 2022, 203, 2024]\n",
    "sales_data = np.array([\n",
    "    [1, 150000, 180000, 220000, 250000], # paradise biryani\n",
    "    [2, 120000, 140000, 160000, 190000], # Beinging bites\n",
    "    [3, 200000, 230000, 260000, 300000], # Pizza Hub\n",
    "    [4, 180000, 210000, 240000, 270000], # Burger Point\n",
    "    [5, 160000, 185000, 205000, 230000]  # Chai Point\n",
    "])\n",
    "print('========= Zomato sales analysis ==========')\n",
    "print('Sales data shape:',sales_data.shape)"
   ]
  },
  {
   "cell_type": "code",
   "execution_count": 59,
   "id": "28f37fd9",
   "metadata": {},
   "outputs": [
    {
     "name": "stdout",
     "output_type": "stream",
     "text": [
      "\n",
      " Sample sample data for 1st 3 restaurant: [[     1 150000 180000 220000 250000]\n",
      " [     2 120000 140000 160000 190000]\n",
      " [     3 200000 230000 260000 300000]]\n"
     ]
    }
   ],
   "source": [
    "print('\\n Sample sample data for 1st 3 restaurant:',sales_data[:3])"
   ]
  },
  {
   "cell_type": "code",
   "execution_count": 61,
   "id": "fa7b2e88",
   "metadata": {},
   "outputs": [
    {
     "name": "stdout",
     "output_type": "stream",
     "text": [
      "\n",
      " Sample sample data for 1st 3 restaurant:\n",
      " [[150000 180000 220000 250000]\n",
      " [120000 140000 160000 190000]\n",
      " [200000 230000 260000 300000]\n",
      " [180000 210000 240000 270000]\n",
      " [160000 185000 205000 230000]]\n"
     ]
    }
   ],
   "source": [
    "print('\\n Sample sample data for 1st 3 restaurant:\\n',sales_data[:,1:])"
   ]
  },
  {
   "cell_type": "code",
   "execution_count": 62,
   "id": "c325cf21",
   "metadata": {},
   "outputs": [
    {
     "name": "stdout",
     "output_type": "stream",
     "text": [
      "[     15  810000  945000 1085000 1240000]\n"
     ]
    }
   ],
   "source": [
    "## Total  sales per year\n",
    "print(np.sum(sales_data, axis = 0))"
   ]
  },
  {
   "cell_type": "code",
   "execution_count": 63,
   "id": "a9d33d4d",
   "metadata": {},
   "outputs": [
    {
     "name": "stdout",
     "output_type": "stream",
     "text": [
      "[ 810000  945000 1085000 1240000]\n"
     ]
    }
   ],
   "source": [
    "## yearly total\n",
    "yearly_total = np.sum(sales_data[:, 1:], axis = 0)\n",
    "print(yearly_total)"
   ]
  },
  {
   "cell_type": "code",
   "execution_count": 65,
   "id": "98051b6f",
   "metadata": {},
   "outputs": [
    {
     "name": "stdout",
     "output_type": "stream",
     "text": [
      "[800000 610000 990000 900000 780000]\n"
     ]
    }
   ],
   "source": [
    "## four year sales of restaurant of all restaurant\n",
    "yearly_total = np.sum(sales_data[:, 1:], axis = 1)\n",
    "print(yearly_total)"
   ]
  },
  {
   "cell_type": "code",
   "execution_count": 66,
   "id": "abd34aea",
   "metadata": {},
   "outputs": [
    {
     "name": "stdout",
     "output_type": "stream",
     "text": [
      "[150000 120000 200000 180000 160000]\n"
     ]
    }
   ],
   "source": [
    "## minimum sales per restaurant \n",
    "min_sales = np.min(sales_data[:, 1:], axis = 1)\n",
    "print(min_sales)"
   ]
  },
  {
   "cell_type": "code",
   "execution_count": 67,
   "id": "0c3dd0d3",
   "metadata": {},
   "outputs": [
    {
     "name": "stdout",
     "output_type": "stream",
     "text": [
      "[100000 120000 200000 180000 160000]\n"
     ]
    }
   ],
   "source": [
    "sales_data = np.array([\n",
    "    [1, 150000, 180000, 220000, 100000], # paradise biryani\n",
    "    [2, 120000, 140000, 160000, 190000], # Beinging bites\n",
    "    [3, 200000, 230000, 260000, 300000], # Pizza Hub\n",
    "    [4, 180000, 210000, 240000, 270000], # Burger Point\n",
    "    [5, 160000, 185000, 205000, 230000]  # Chai Point\n",
    "])\n",
    "min_sales = np.min(sales_data[:, 1:], axis = 1)\n",
    "print(min_sales)"
   ]
  },
  {
   "cell_type": "code",
   "execution_count": 68,
   "id": "3ec1aec3",
   "metadata": {},
   "outputs": [
    {
     "name": "stdout",
     "output_type": "stream",
     "text": [
      "[200000 230000 260000 300000]\n"
     ]
    }
   ],
   "source": [
    "max_sales = np.max(sales_data[:, 1:], axis = 0)\n",
    "print(max_sales)"
   ]
  },
  {
   "cell_type": "code",
   "execution_count": 69,
   "id": "de6df807",
   "metadata": {},
   "outputs": [
    {
     "name": "stdout",
     "output_type": "stream",
     "text": [
      "[162500. 152500. 247500. 225000. 195000.]\n"
     ]
    }
   ],
   "source": [
    "# Average sales per restaurant\n",
    "avg_sales = np.mean(sales_data[:, 1:], axis = 1)\n",
    "print(avg_sales)"
   ]
  },
  {
   "cell_type": "code",
   "execution_count": null,
   "id": "045aae1b",
   "metadata": {},
   "outputs": [],
   "source": []
  },
  {
   "cell_type": "code",
   "execution_count": 70,
   "id": "84d29933",
   "metadata": {},
   "outputs": [
    {
     "name": "stdout",
     "output_type": "stream",
     "text": [
      "Cumlative sales: [[150000 330000 550000 650000]\n",
      " [120000 260000 420000 610000]\n",
      " [200000 430000 690000 990000]\n",
      " [180000 390000 630000 900000]\n",
      " [160000 345000 550000 780000]]\n"
     ]
    }
   ],
   "source": [
    "# Cumlative sales\n",
    "cum_sum = np.cumsum(sales_data[:, 1:], axis = 1)\n",
    "print('Cumlative sales:', cum_sum)"
   ]
  },
  {
   "cell_type": "code",
   "execution_count": 72,
   "id": "1216a3e9",
   "metadata": {},
   "outputs": [
    {
     "data": {
      "text/plain": [
       "<function matplotlib.pyplot.show(close=None, block=None)>"
      ]
     },
     "execution_count": 72,
     "metadata": {},
     "output_type": "execute_result"
    },
    {
     "data": {
      "image/png": "[encoded data removed]",
      "text/plain": [
       "<Figure size 800x600 with 1 Axes>"
      ]
     },
     "metadata": {},
     "output_type": "display_data"
    }
   ],
   "source": [
    "plt.figure(figsize=(8, 6))\n",
    "plt.plot(np.mean(cum_sum, axis = 0))\n",
    "plt.title('Average Cumlative sales per year across all restaurant')\n",
    "plt.xlabel('Sales')\n",
    "plt.grid(True)\n",
    "plt.show"
   ]
  },
  {
   "cell_type": "code",
   "execution_count": 73,
   "id": "b594bf22",
   "metadata": {},
   "outputs": [
    {
     "name": "stdout",
     "output_type": "stream",
     "text": [
      "Vector Addition [ 7  9 11 13 15]\n"
     ]
    }
   ],
   "source": [
    "vector1 = np.array([1, 2, 3, 4, 5])\n",
    "vector2 = np.array([6, 7, 8, 9, 10])\n",
    "\n",
    "print('Vector Addition', vector1 + vector2)"
   ]
  },
  {
   "cell_type": "code",
   "execution_count": 74,
   "id": "44e467aa",
   "metadata": {},
   "outputs": [
    {
     "name": "stdout",
     "output_type": "stream",
     "text": [
      "Multiplication of vectors [ 6 14 24 36 50]\n"
     ]
    }
   ],
   "source": [
    "print('Multiplication of vectors', vector1 * vector2)"
   ]
  },
  {
   "cell_type": "code",
   "execution_count": 75,
   "id": "5679b239",
   "metadata": {},
   "outputs": [
    {
     "name": "stdout",
     "output_type": "stream",
     "text": [
      "Dot Product 130\n"
     ]
    }
   ],
   "source": [
    "print('Dot Product', np.dot(vector1 , vector2))"
   ]
  },
  {
   "cell_type": "code",
   "execution_count": 80,
   "id": "3979a374",
   "metadata": {},
   "outputs": [
    {
     "name": "stdout",
     "output_type": "stream",
     "text": [
      "Angle between vector: 0.26554161733900966\n"
     ]
    }
   ],
   "source": [
    "angle = np.arccos(np.dot(vector1, vector2) / (np.linalg.norm(vector1) * np.linalg.norm(vector2)))\n",
    "print('Angle between vector:',angle)"
   ]
  },
  {
   "cell_type": "code",
   "execution_count": 82,
   "id": "b81ed3d8",
   "metadata": {},
   "outputs": [
    {
     "name": "stdout",
     "output_type": "stream",
     "text": [
      "Vectorised upper ['BIRYANI' 'CHINESE' 'PIZZA' 'BURGER' 'CAFE']\n"
     ]
    }
   ],
   "source": [
    "restaurant_type = np.array(['Biryani', 'Chinese', 'Pizza', 'Burger', 'Cafe'])\n",
    "vectorised_upper = np.vectorize(str.upper)\n",
    "print('Vectorised upper', vectorised_upper(restaurant_type))"
   ]
  },
  {
   "cell_type": "code",
   "execution_count": 86,
   "id": "4e9a75bc",
   "metadata": {},
   "outputs": [
    {
     "name": "stdout",
     "output_type": "stream",
     "text": [
      "[[12500.         15000.         18333.33333333  8333.33333333]\n",
      " [10000.         11666.66666667 13333.33333333 15833.33333333]\n",
      " [16666.66666667 19166.66666667 21666.66666667 25000.        ]\n",
      " [15000.         17500.         20000.         22500.        ]\n",
      " [13333.33333333 15416.66666667 17083.33333333 19166.66666667]]\n"
     ]
    }
   ],
   "source": [
    "monthly_avg = sales_data[:, 1:] / 12\n",
    "print(monthly_avg)"
   ]
  },
  {
   "cell_type": "code",
   "execution_count": 88,
   "id": "2645b5fd",
   "metadata": {},
   "outputs": [],
   "source": [
    "array1 = np.array([[1, 2, 3], [4, 5, 6]])\n",
    "array2 = np.random.rand(3, 3)\n",
    "array3 = np.zeros((4, 4))"
   ]
  },
  {
   "cell_type": "code",
   "execution_count": 89,
   "id": "b6c9056c",
   "metadata": {},
   "outputs": [],
   "source": [
    "np.save('array1.npy', array1)\n",
    "np.save('array2.npy', array1)\n",
    "np.save('array3.npy', array1)"
   ]
  },
  {
   "cell_type": "code",
   "execution_count": 90,
   "id": "cc3c32eb",
   "metadata": {},
   "outputs": [
    {
     "name": "stdout",
     "output_type": "stream",
     "text": [
      "[[1 2 3]\n",
      " [4 5 6]]\n"
     ]
    }
   ],
   "source": [
    "loaded_array1 = np.load('array1.npy')\n",
    "print(loaded_array1)"
   ]
  },
  {
   "cell_type": "code",
   "execution_count": 93,
   "id": "61451b2e",
   "metadata": {},
   "outputs": [
    {
     "data": {
      "image/png": "[encoded data removed]",
      "text/plain": [
       "<Figure size 1000x500 with 1 Axes>"
      ]
     },
     "metadata": {},
     "output_type": "display_data"
    }
   ],
   "source": [
    "try:\n",
    "    logo = np.load('numpy-logo.npy')\n",
    "    plt.figure(figsize=(10, 5))\n",
    "    plt.subplot(121)\n",
    "    plt.imshow(logo)\n",
    "    plt.title('Numpy Logo')\n",
    "    plt.grid(False)\n",
    "except FileNotFoundError:\n",
    "    print('Numpy logo file not found', )"
   ]
  },
  {
   "cell_type": "code",
   "execution_count": 94,
   "id": "8107fc2d",
   "metadata": {},
   "outputs": [
    {
     "data": {
      "image/png": "[encoded data removed]",
      "text/plain": [
       "<Figure size 1000x500 with 1 Axes>"
      ]
     },
     "metadata": {},
     "output_type": "display_data"
    }
   ],
   "source": [
    "try:\n",
    "    logo = np.load('numpy-logo.npy')\n",
    "    plt.figure(figsize=(10, 5))\n",
    "    dark_logo = 1 - logo\n",
    "    plt.subplot(122)\n",
    "    plt.imshow(dark_logo)\n",
    "    plt.title('Numpy Dark Logo')\n",
    "    plt.grid(False)\n",
    "except FileNotFoundError:\n",
    "    print('Numpy logo file not found', )"
   ]
  },
  {
   "cell_type": "code",
   "execution_count": null,
   "id": "8ff5d536",
   "metadata": {},
   "outputs": [],
   "source": []
  }
 ],
 "metadata": {
  "kernelspec": {
   "display_name": "Python 3.13.3",
   "language": "python",
   "name": "pyenv-3.13.3"
  },
  "language_info": {
   "codemirror_mode": {
    "name": "ipython",
    "version": 3
   },
   "file_extension": ".py",
   "mimetype": "text/x-python",
   "name": "python",
   "nbconvert_exporter": "python",
   "pygments_lexer": "ipython3",
   "version": "3.13.3"
  }
 },
 "nbformat": 4,
 "nbformat_minor": 5
}
