{
 "cells": [
  {
   "cell_type": "markdown",
   "id": "4c805796",
   "metadata": {},
   "source": [
    "# File Operation"
   ]
  },
  {
   "cell_type": "code",
   "execution_count": 2,
   "id": "b7abd36b",
   "metadata": {},
   "outputs": [
    {
     "name": "stdout",
     "output_type": "stream",
     "text": [
      "Hello how are you?\n",
      "I am good \n",
      "My name is Abdul Qadir\n",
      "Tell me about yourself.\n"
     ]
    }
   ],
   "source": [
    "with open('example.txt', 'r') as file:\n",
    "    content = file.read()\n",
    "    print(content)"
   ]
  },
  {
   "cell_type": "code",
   "execution_count": 3,
   "id": "b4b24fd2",
   "metadata": {},
   "outputs": [
    {
     "name": "stdout",
     "output_type": "stream",
     "text": [
      "Hello how are you?\n",
      "\n",
      "I am good \n",
      "\n",
      "My name is Abdul Qadir\n",
      "\n",
      "Tell me about yourself.\n"
     ]
    }
   ],
   "source": [
    "## Read file line by line\n",
    "with open('example.txt', 'r') as file:\n",
    "    for line in file:\n",
    "        print(line)"
   ]
  },
  {
   "cell_type": "code",
   "execution_count": 5,
   "id": "80c5e3b6",
   "metadata": {},
   "outputs": [],
   "source": [
    "## writing a file(overwritting)\n",
    "with open('example.txt', 'w') as file:\n",
    "    file.write('Hello World!\\n')\n",
    "    file.write('this is a newline')"
   ]
  },
  {
   "cell_type": "code",
   "execution_count": 8,
   "id": "75925379",
   "metadata": {},
   "outputs": [],
   "source": [
    "## Writing in a file Without overwritting\n",
    "with open('example.txt', 'a') as file:\n",
    "    file.write('\\nAppend opertion taking  palace')\n",
    "    "
   ]
  },
  {
   "cell_type": "code",
   "execution_count": 11,
   "id": "ddb32e3f",
   "metadata": {},
   "outputs": [],
   "source": [
    "## witting in a file at a time\n",
    "lines = ['\\nfirst line\\n', 'second line\\n', 'thirdline\\n']\n",
    "with open('example.txt', 'a') as file:\n",
    "    file.writelines(lines)"
   ]
  },
  {
   "cell_type": "code",
   "execution_count": 2,
   "id": "9f3dd628",
   "metadata": {},
   "outputs": [],
   "source": [
    "## Binary files\n",
    "data = b'\\x00\\x01\\x02\\x03\\x04'\n",
    "with open('example.bin', 'wb') as file:\n",
    "    file.write(data)"
   ]
  },
  {
   "cell_type": "code",
   "execution_count": 4,
   "id": "d20e09ee",
   "metadata": {},
   "outputs": [
    {
     "name": "stdout",
     "output_type": "stream",
     "text": [
      "b'\\x00\\x01\\x02\\x03\\x04'\n"
     ]
    }
   ],
   "source": [
    "## Reading with a binary file\n",
    "with open('example.bin', 'rb') as file:\n",
    "    content = file.read()\n",
    "    print(content)"
   ]
  },
  {
   "cell_type": "code",
   "execution_count": 6,
   "id": "78e63810",
   "metadata": {},
   "outputs": [],
   "source": [
    "## Read the content from source file and write into Destination file\n",
    "with open('example.txt', 'r') as source_file:\n",
    "    content = source_file.read()\n",
    "\n",
    "with open('destination.txt', 'w') as destination_file:\n",
    "    destination_file.write(content)\n",
    "    "
   ]
  },
  {
   "cell_type": "code",
   "execution_count": 8,
   "id": "075ac218",
   "metadata": {},
   "outputs": [
    {
     "name": "stdout",
     "output_type": "stream",
     "text": [
      "Lines: 6, Words: 15, Characters: 95\n"
     ]
    }
   ],
   "source": [
    "def count_text_file(file_path):\n",
    "    with open(file_path, 'r') as file:\n",
    "        lines = file.readlines()\n",
    "        lines_count = len(lines)\n",
    "        word_count = sum(len(line.split()) for line in lines)\n",
    "        char_count = sum(len(line) for line in lines)\n",
    "    return lines_count, word_count, char_count\n",
    "\n",
    "file_path = 'example.txt'\n",
    "lines, words, characters = count_text_file(file_path)\n",
    "print(f'Lines: {lines}, Words: {words}, Characters: {characters}')"
   ]
  },
  {
   "cell_type": "code",
   "execution_count": 11,
   "id": "866d3ed5",
   "metadata": {},
   "outputs": [
    {
     "name": "stdout",
     "output_type": "stream",
     "text": [
      "Hello World\n",
      "This is a new line\n",
      "\n"
     ]
    }
   ],
   "source": [
    "with open('example.txt', 'w+') as file:\n",
    "    file.write('Hello World\\n')\n",
    "    file.write(\"This is a new line\\n\")\n",
    "    \n",
    "    file.seek(0)  # Move cursor to beginning\n",
    "    content = file.read()  # Read content from file\n",
    "    print(content)"
   ]
  },
  {
   "cell_type": "code",
   "execution_count": 4,
   "id": "0cd9fb91",
   "metadata": {},
   "outputs": [
    {
     "name": "stdout",
     "output_type": "stream",
     "text": [
      "Directory package is created.\n"
     ]
    }
   ],
   "source": [
    "# create a new directory\n",
    "import os \n",
    "new_directory = \"package\"\n",
    "os.mkdir(new_directory)\n",
    "print(f'Directory {new_directory} is created.')"
   ]
  },
  {
   "cell_type": "code",
   "execution_count": 7,
   "id": "1988ad5f",
   "metadata": {},
   "outputs": [
    {
     "name": "stdout",
     "output_type": "stream",
     "text": [
      "['fileoperation.ipynb', 'destination.txt', 'example.bin', 'example.txt', '.ipynb_checkpoints', 'package']\n"
     ]
    }
   ],
   "source": [
    "# Listing all files and directories\n",
    "items = os.listdir('.')\n",
    "print(items)"
   ]
  },
  {
   "cell_type": "code",
   "execution_count": 8,
   "id": "ab288b1b",
   "metadata": {},
   "outputs": [],
   "source": [
    "# joining paths\n",
    "dir_name = \"folder\"\n",
    "file_name = \"file.txt\"\n",
    "full_path = os.path.join(dir_name, file_name)"
   ]
  },
  {
   "cell_type": "code",
   "execution_count": 9,
   "id": "3fcf3c36",
   "metadata": {},
   "outputs": [
    {
     "data": {
      "text/plain": [
       "'folder/file.txt'"
      ]
     },
     "execution_count": 9,
     "metadata": {},
     "output_type": "execute_result"
    }
   ],
   "source": [
    "full_path"
   ]
  },
  {
   "cell_type": "code",
   "execution_count": 10,
   "id": "771c4422",
   "metadata": {},
   "outputs": [
    {
     "name": "stdout",
     "output_type": "stream",
     "text": [
      "folder/file.txt\n"
     ]
    }
   ],
   "source": [
    "print(full_path)"
   ]
  },
  {
   "cell_type": "code",
   "execution_count": 11,
   "id": "1e5ed32f",
   "metadata": {},
   "outputs": [
    {
     "name": "stdout",
     "output_type": "stream",
     "text": [
      "/Users/abdulqadir0210423gmail.com/Desktop/PROGRAMING/Python/Krish_Naik/FileOperation/folder/file.txt\n"
     ]
    }
   ],
   "source": [
    "full_path1 = os.path.join(os.getcwd(),dir_name, file_name)\n",
    "print(full_path1)"
   ]
  },
  {
   "cell_type": "code",
   "execution_count": 13,
   "id": "a240e0c7",
   "metadata": {},
   "outputs": [
    {
     "name": "stdout",
     "output_type": "stream",
     "text": [
      "The example.txt exists\n"
     ]
    }
   ],
   "source": [
    "path = 'example.txt'\n",
    "if os.path.exists(path):\n",
    "    print(f'The {path} exists')\n",
    "else : print(f'The \"{path}\" doesnot exists.')"
   ]
  },
  {
   "cell_type": "code",
   "execution_count": 14,
   "id": "1eed7c5f",
   "metadata": {},
   "outputs": [
    {
     "name": "stdout",
     "output_type": "stream",
     "text": [
      "The example.txt exists\n"
     ]
    }
   ],
   "source": [
    "path1 = 'example.txt'\n",
    "if os.path.exists(path1):\n",
    "    print(f'The {path1} exists')\n",
    "else : print(f'The \"{path1}\" doesnot exists.')"
   ]
  },
  {
   "cell_type": "code",
   "execution_count": 18,
   "id": "6a762552",
   "metadata": {},
   "outputs": [
    {
     "name": "stdout",
     "output_type": "stream",
     "text": [
      "The path is example.txt file.\n"
     ]
    }
   ],
   "source": [
    "# checking if a path is a file or directory\n",
    "import os\n",
    "path = 'example.txt'\n",
    "\n",
    "if os.path.isfile(path):\n",
    "    print(f'The path is {path} file.')\n",
    "elif os.path.isdir(path):\n",
    "    print(f'The path is {path} a directory')\n",
    "else: printf(f'The path is {path} neither a file nor a directory.')"
   ]
  },
  {
   "cell_type": "code",
   "execution_count": 19,
   "id": "baf280c5",
   "metadata": {},
   "outputs": [
    {
     "name": "stdout",
     "output_type": "stream",
     "text": [
      "/Users/abdulqadir0210423gmail.com/Desktop/PROGRAMING/Python/Krish_Naik/FileOperation/example.txt\n"
     ]
    }
   ],
   "source": [
    "# Getting the absolute path\n",
    "relative_path = 'example.txt'\n",
    "absolute_path = os.path.abspath(relative_path)\n",
    "print(absolute_path)"
   ]
  },
  {
   "cell_type": "code",
   "execution_count": null,
   "id": "4aa322f4",
   "metadata": {},
   "outputs": [],
   "source": []
  }
 ],
 "metadata": {
  "kernelspec": {
   "display_name": "3.13.5",
   "language": "python",
   "name": "python3"
  },
  "language_info": {
   "codemirror_mode": {
    "name": "ipython",
    "version": 3
   },
   "file_extension": ".py",
   "mimetype": "text/x-python",
   "name": "python",
   "nbconvert_exporter": "python",
   "pygments_lexer": "ipython3",
   "version": "3.13.5"
  }
 },
 "nbformat": 4,
 "nbformat_minor": 5
}
