{
 "cells": [
  {
   "cell_type": "markdown",
   "id": "9408e897",
   "metadata": {},
   "source": [
    "# ADVANCE PYTHON"
   ]
  },
  {
   "cell_type": "markdown",
   "id": "893b12b4",
   "metadata": {},
   "source": [
    "## Iterators"
   ]
  },
  {
   "cell_type": "code",
   "execution_count": 1,
   "id": "85ec64d7",
   "metadata": {},
   "outputs": [
    {
     "name": "stdout",
     "output_type": "stream",
     "text": [
      "1\n",
      "2\n",
      "3\n",
      "4\n",
      "5\n"
     ]
    }
   ],
   "source": [
    "myList = [1, 2, 3, 4, 5]\n",
    "for i in myList:\n",
    "    print(i)"
   ]
  },
  {
   "cell_type": "code",
   "execution_count": 2,
   "id": "19de3963",
   "metadata": {},
   "outputs": [
    {
     "data": {
      "text/plain": [
       "list"
      ]
     },
     "execution_count": 2,
     "metadata": {},
     "output_type": "execute_result"
    }
   ],
   "source": [
    "type(myList)"
   ]
  },
  {
   "cell_type": "code",
   "execution_count": 3,
   "id": "a47ebb7b",
   "metadata": {},
   "outputs": [
    {
     "name": "stdout",
     "output_type": "stream",
     "text": [
      "[1, 2, 3, 4, 5]\n"
     ]
    }
   ],
   "source": [
    "print(myList)"
   ]
  },
  {
   "cell_type": "code",
   "execution_count": 7,
   "id": "e794854d",
   "metadata": {},
   "outputs": [
    {
     "name": "stdout",
     "output_type": "stream",
     "text": [
      "<class 'list_iterator'>\n"
     ]
    }
   ],
   "source": [
    "iterator = iter(myList)\n",
    "print(type(iterator))"
   ]
  },
  {
   "cell_type": "code",
   "execution_count": 8,
   "id": "2970a681",
   "metadata": {},
   "outputs": [
    {
     "data": {
      "text/plain": [
       "<list_iterator at 0x107b0fd00>"
      ]
     },
     "execution_count": 8,
     "metadata": {},
     "output_type": "execute_result"
    }
   ],
   "source": [
    "iterator"
   ]
  },
  {
   "cell_type": "code",
   "execution_count": 15,
   "id": "ba554571",
   "metadata": {},
   "outputs": [
    {
     "ename": "StopIteration",
     "evalue": "",
     "output_type": "error",
     "traceback": [
      "\u001b[0;31m---------------------------------------------------------------------------\u001b[0m",
      "\u001b[0;31mStopIteration\u001b[0m                             Traceback (most recent call last)",
      "Cell \u001b[0;32mIn[15], line 2\u001b[0m\n\u001b[1;32m      1\u001b[0m \u001b[38;5;66;03m## iterate through all the element\u001b[39;00m\n\u001b[0;32m----> 2\u001b[0m \u001b[38;5;28;43mnext\u001b[39;49m\u001b[43m(\u001b[49m\u001b[43miterator\u001b[49m\u001b[43m)\u001b[49m\n",
      "\u001b[0;31mStopIteration\u001b[0m: "
     ]
    }
   ],
   "source": [
    "## iterate through all the element\n",
    "next(iterator)"
   ]
  },
  {
   "cell_type": "code",
   "execution_count": 16,
   "id": "af244944",
   "metadata": {},
   "outputs": [],
   "source": [
    "iterator = iter(myList)"
   ]
  },
  {
   "cell_type": "code",
   "execution_count": 22,
   "id": "aaaea766",
   "metadata": {},
   "outputs": [
    {
     "name": "stdout",
     "output_type": "stream",
     "text": [
      "Hey, there are no element in the iterator!\n"
     ]
    }
   ],
   "source": [
    "try:\n",
    "    print(next(iterator))\n",
    "except StopIteration: \n",
    "    print('Hey, there are no element in the iterator!')"
   ]
  },
  {
   "cell_type": "markdown",
   "id": "1b4b52c4",
   "metadata": {},
   "source": [
    "## Generator"
   ]
  },
  {
   "cell_type": "code",
   "execution_count": 23,
   "id": "7f6b10d7",
   "metadata": {},
   "outputs": [],
   "source": [
    "def square(n):\n",
    "    for i in range(3):\n",
    "        return i ** 2"
   ]
  },
  {
   "cell_type": "code",
   "execution_count": 24,
   "id": "cddf95db",
   "metadata": {},
   "outputs": [
    {
     "data": {
      "text/plain": [
       "0"
      ]
     },
     "execution_count": 24,
     "metadata": {},
     "output_type": "execute_result"
    }
   ],
   "source": [
    "square(3)"
   ]
  },
  {
   "cell_type": "code",
   "execution_count": 25,
   "id": "dff94873",
   "metadata": {},
   "outputs": [],
   "source": [
    "def square(n):\n",
    "    for i in range(3):\n",
    "        yield i ** 2\n"
   ]
  },
  {
   "cell_type": "code",
   "execution_count": 28,
   "id": "d5a927e5",
   "metadata": {},
   "outputs": [],
   "source": [
    "a = square(3)"
   ]
  },
  {
   "cell_type": "code",
   "execution_count": 29,
   "id": "8a8ef56d",
   "metadata": {},
   "outputs": [
    {
     "name": "stdout",
     "output_type": "stream",
     "text": [
      "0\n",
      "1\n",
      "4\n"
     ]
    }
   ],
   "source": [
    "for i in square(3):\n",
    "    print(i)"
   ]
  },
  {
   "cell_type": "code",
   "execution_count": 33,
   "id": "1b929584",
   "metadata": {},
   "outputs": [
    {
     "ename": "StopIteration",
     "evalue": "",
     "output_type": "error",
     "traceback": [
      "\u001b[0;31m---------------------------------------------------------------------------\u001b[0m",
      "\u001b[0;31mStopIteration\u001b[0m                             Traceback (most recent call last)",
      "Cell \u001b[0;32mIn[33], line 1\u001b[0m\n\u001b[0;32m----> 1\u001b[0m \u001b[38;5;28;43mnext\u001b[39;49m\u001b[43m(\u001b[49m\u001b[43ma\u001b[49m\u001b[43m)\u001b[49m\n",
      "\u001b[0;31mStopIteration\u001b[0m: "
     ]
    }
   ],
   "source": [
    "next(a)"
   ]
  },
  {
   "cell_type": "code",
   "execution_count": 34,
   "id": "db0b7ead",
   "metadata": {},
   "outputs": [],
   "source": [
    "def myGenerator():\n",
    "    yield 1\n",
    "    yield 2\n",
    "    yield 3"
   ]
  },
  {
   "cell_type": "code",
   "execution_count": 40,
   "id": "eac9eaae",
   "metadata": {},
   "outputs": [
    {
     "data": {
      "text/plain": [
       "<generator object myGenerator at 0x11410c3b0>"
      ]
     },
     "execution_count": 40,
     "metadata": {},
     "output_type": "execute_result"
    }
   ],
   "source": [
    "gen = myGenerator()\n",
    "gen"
   ]
  },
  {
   "cell_type": "code",
   "execution_count": 39,
   "id": "29adf52f",
   "metadata": {},
   "outputs": [
    {
     "ename": "StopIteration",
     "evalue": "",
     "output_type": "error",
     "traceback": [
      "\u001b[0;31m---------------------------------------------------------------------------\u001b[0m",
      "\u001b[0;31mStopIteration\u001b[0m                             Traceback (most recent call last)",
      "Cell \u001b[0;32mIn[39], line 1\u001b[0m\n\u001b[0;32m----> 1\u001b[0m \u001b[38;5;28;43mnext\u001b[39;49m\u001b[43m(\u001b[49m\u001b[43mgen\u001b[49m\u001b[43m)\u001b[49m\n",
      "\u001b[0;31mStopIteration\u001b[0m: "
     ]
    }
   ],
   "source": [
    "next(gen)"
   ]
  },
  {
   "cell_type": "code",
   "execution_count": 41,
   "id": "a43d90df",
   "metadata": {},
   "outputs": [
    {
     "name": "stdout",
     "output_type": "stream",
     "text": [
      "1\n",
      "2\n",
      "3\n"
     ]
    }
   ],
   "source": [
    "for val in gen:\n",
    "    print(val)"
   ]
  },
  {
   "cell_type": "code",
   "execution_count": 42,
   "id": "b5863a43",
   "metadata": {},
   "outputs": [],
   "source": [
    "## Practical : Reading Large file\n",
    "\n",
    "def readLargeFile(filePath):\n",
    "    with open(filePath, 'r') as file:\n",
    "        for line in file:\n",
    "            yield line\n"
   ]
  },
  {
   "cell_type": "code",
   "execution_count": 45,
   "id": "850a970f",
   "metadata": {},
   "outputs": [
    {
     "name": "stdout",
     "output_type": "stream",
     "text": [
      "The prime minister of India is the chief executive of the Government of India and chair of the Union Council of Ministers.[1][2] Although the president of India is the constitutional, nominal, and ceremonial head of state,[3][4][5][6] in practice and ordinarily, the executive authority is vested in the prime minister and their chosen Council of Ministers.[7][8][6] The prime minister is the leader elected by the party with a majority in the lower house of the Indian parliament, the Lok Sabha, which is the main legislative body in the Republic of India.[9] The prime minister and their cabinet are at all times responsible to the Lok Sabha.[10][11] The prime minister can be a member of the Lok Sabha or of the Rajya Sabha, the upper house of the parliament. The prime minister ranks third in the order of precedence.\n",
      "Top left: Jawaharlal Nehru was the first and the longest-serving prime minister in Indian history.\n",
      "Top centre: Indira Gandhi was the first and only woman to serve as prime minister.\n",
      "Top right: Charan Singh was the first and only prime minister in Indian history who never faced parliament.\n",
      "Bottom left: Atal Bihari Vajpayee was the first non-Congress prime minister to complete a full 5 year term.\n",
      "Bottom centre: Manmohan Singh was the first prime minister from a minority religion.\n",
      "Bottom right: Narendra Modi is the only prime minister to be born in independent India and is the longest-serving non-Congress prime minister.\n"
     ]
    }
   ],
   "source": [
    "filePath = 'largeFile.txt'\n",
    "\n",
    "for line in readLargeFile(filePath):\n",
    "    print(line.strip())"
   ]
  },
  {
   "cell_type": "markdown",
   "id": "ad43bf00",
   "metadata": {},
   "source": [
    "## Decorator"
   ]
  },
  {
   "cell_type": "code",
   "execution_count": null,
   "id": "fd33b0fd",
   "metadata": {},
   "outputs": [],
   "source": [
    "## Function copy\n",
    "## closures\n",
    "## decorators\n"
   ]
  },
  {
   "cell_type": "code",
   "execution_count": 47,
   "id": "447e1de4",
   "metadata": {},
   "outputs": [
    {
     "data": {
      "text/plain": [
       "'welcome to the advance python course'"
      ]
     },
     "execution_count": 47,
     "metadata": {},
     "output_type": "execute_result"
    }
   ],
   "source": [
    "## Function copy\n",
    "def welcome():\n",
    "    return 'welcome to the advance python course'\n",
    "welcome()"
   ]
  },
  {
   "cell_type": "code",
   "execution_count": 48,
   "id": "5b0f6885",
   "metadata": {},
   "outputs": [
    {
     "data": {
      "text/plain": [
       "<function __main__.welcome()>"
      ]
     },
     "execution_count": 48,
     "metadata": {},
     "output_type": "execute_result"
    }
   ],
   "source": [
    "wel = welcome\n",
    "wel"
   ]
  },
  {
   "cell_type": "code",
   "execution_count": 49,
   "id": "c1a0052a",
   "metadata": {},
   "outputs": [
    {
     "data": {
      "text/plain": [
       "'welcome to the advance python course'"
      ]
     },
     "execution_count": 49,
     "metadata": {},
     "output_type": "execute_result"
    }
   ],
   "source": [
    "wel()"
   ]
  },
  {
   "cell_type": "code",
   "execution_count": 51,
   "id": "dd55a9e3",
   "metadata": {},
   "outputs": [],
   "source": [
    "del welcome"
   ]
  },
  {
   "cell_type": "code",
   "execution_count": 52,
   "id": "8cf29eef",
   "metadata": {},
   "outputs": [
    {
     "data": {
      "text/plain": [
       "'welcome to the advance python course'"
      ]
     },
     "execution_count": 52,
     "metadata": {},
     "output_type": "execute_result"
    }
   ],
   "source": [
    "wel()"
   ]
  },
  {
   "cell_type": "code",
   "execution_count": 53,
   "id": "a7e54b04",
   "metadata": {},
   "outputs": [
    {
     "ename": "NameError",
     "evalue": "name 'welcome' is not defined",
     "output_type": "error",
     "traceback": [
      "\u001b[0;31m---------------------------------------------------------------------------\u001b[0m",
      "\u001b[0;31mNameError\u001b[0m                                 Traceback (most recent call last)",
      "Cell \u001b[0;32mIn[53], line 1\u001b[0m\n\u001b[0;32m----> 1\u001b[0m \u001b[43mwelcome\u001b[49m()\n",
      "\u001b[0;31mNameError\u001b[0m: name 'welcome' is not defined"
     ]
    }
   ],
   "source": [
    "welcome()"
   ]
  },
  {
   "cell_type": "markdown",
   "id": "0f8ed22f",
   "metadata": {},
   "source": [
    "## Closures"
   ]
  },
  {
   "cell_type": "code",
   "execution_count": 56,
   "id": "645e5922",
   "metadata": {},
   "outputs": [],
   "source": [
    "def mainWelcome():\n",
    "    msg = 'welcome'\n",
    "    def subWelcomeMethod():\n",
    "        print('Welcome to the advance python course')\n",
    "        print(msg)\n",
    "        print('hey, please learn this concept properly')\n",
    "    return subWelcomeMethod()"
   ]
  },
  {
   "cell_type": "code",
   "execution_count": 57,
   "id": "99b683f0",
   "metadata": {},
   "outputs": [
    {
     "name": "stdout",
     "output_type": "stream",
     "text": [
      "Welcome to the advance python course\n",
      "welcome\n",
      "hey, please learn this concept properly\n"
     ]
    }
   ],
   "source": [
    "mainWelcome()"
   ]
  },
  {
   "cell_type": "code",
   "execution_count": 58,
   "id": "ab54e701",
   "metadata": {},
   "outputs": [],
   "source": [
    "def mainWelcome(msg):\n",
    "    def subWelcomeMethod():\n",
    "        print('Welcome to the advance python course')\n",
    "        print(msg)\n",
    "        print('hey, please learn this concept properly')\n",
    "    return subWelcomeMethod()"
   ]
  },
  {
   "cell_type": "code",
   "execution_count": 60,
   "id": "3aec0cfe",
   "metadata": {},
   "outputs": [
    {
     "name": "stdout",
     "output_type": "stream",
     "text": [
      "Welcome to the advance python course\n",
      "Hey, welcome\n",
      "hey, please learn this concept properly\n"
     ]
    }
   ],
   "source": [
    "mainWelcome('Hey, welcome')"
   ]
  },
  {
   "cell_type": "code",
   "execution_count": 64,
   "id": "e98aefa3",
   "metadata": {},
   "outputs": [],
   "source": [
    "def mainWelcome(func, lst):\n",
    "    def subWelcomeMethod():\n",
    "        print('Welcome to the advance python course')\n",
    "        print(func(lst))\n",
    "        print('hey, please learn this concept properly')\n",
    "    return subWelcomeMethod()"
   ]
  },
  {
   "cell_type": "code",
   "execution_count": 65,
   "id": "e20e4d5d",
   "metadata": {},
   "outputs": [
    {
     "ename": "TypeError",
     "evalue": "mainWelcome() missing 1 required positional argument: 'lst'",
     "output_type": "error",
     "traceback": [
      "\u001b[0;31m---------------------------------------------------------------------------\u001b[0m",
      "\u001b[0;31mTypeError\u001b[0m                                 Traceback (most recent call last)",
      "Cell \u001b[0;32mIn[65], line 1\u001b[0m\n\u001b[0;32m----> 1\u001b[0m \u001b[43mmainWelcome\u001b[49m\u001b[43m(\u001b[49m\u001b[38;5;28;43mlen\u001b[39;49m\u001b[43m(\u001b[49m\u001b[43m[\u001b[49m\u001b[38;5;241;43m1\u001b[39;49m\u001b[43m,\u001b[49m\u001b[43m \u001b[49m\u001b[38;5;241;43m2\u001b[39;49m\u001b[43m,\u001b[49m\u001b[43m \u001b[49m\u001b[38;5;241;43m3\u001b[39;49m\u001b[43m,\u001b[49m\u001b[43m \u001b[49m\u001b[38;5;241;43m4\u001b[39;49m\u001b[43m,\u001b[49m\u001b[43m \u001b[49m\u001b[38;5;241;43m5\u001b[39;49m\u001b[43m]\u001b[49m\u001b[43m)\u001b[49m\u001b[43m)\u001b[49m\n",
      "\u001b[0;31mTypeError\u001b[0m: mainWelcome() missing 1 required positional argument: 'lst'"
     ]
    }
   ],
   "source": [
    "mainWelcome(len([1, 2, 3, 4, 5]))"
   ]
  },
  {
   "cell_type": "code",
   "execution_count": 63,
   "id": "1ef9b8bc",
   "metadata": {},
   "outputs": [
    {
     "data": {
      "text/plain": [
       "5"
      ]
     },
     "execution_count": 63,
     "metadata": {},
     "output_type": "execute_result"
    }
   ],
   "source": [
    "len([1, 2, 3, 4, 5])"
   ]
  },
  {
   "cell_type": "code",
   "execution_count": 66,
   "id": "494a389e",
   "metadata": {},
   "outputs": [
    {
     "name": "stdout",
     "output_type": "stream",
     "text": [
      "Welcome to the advance python course\n",
      "6\n",
      "hey, please learn this concept properly\n"
     ]
    }
   ],
   "source": [
    "mainWelcome(len, [1, 2, 3, 4, 5, 6])"
   ]
  },
  {
   "cell_type": "code",
   "execution_count": null,
   "id": "8add5a99",
   "metadata": {},
   "outputs": [
    {
     "name": "stdout",
     "output_type": "stream",
     "text": [
      "This is an advance python course\n"
     ]
    }
   ],
   "source": [
    "def courseInturoduction():\n",
    "    print('This is an advance python course')\n",
    "courseInturoduction()"
   ]
  },
  {
   "cell_type": "code",
   "execution_count": 69,
   "id": "b8460076",
   "metadata": {},
   "outputs": [],
   "source": [
    "def mainWelcome(func):\n",
    "    def subWelcomeMethod():\n",
    "        print('Welcome to the advance python course')\n",
    "        func()\n",
    "        print('hey, please learn this concept properly')\n",
    "    return subWelcomeMethod()"
   ]
  },
  {
   "cell_type": "code",
   "execution_count": 70,
   "id": "bef6c04c",
   "metadata": {},
   "outputs": [
    {
     "name": "stdout",
     "output_type": "stream",
     "text": [
      "Welcome to the advance python course\n",
      "This is an advance python course\n",
      "hey, please learn this concept properly\n"
     ]
    }
   ],
   "source": [
    "mainWelcome(courseInturoduction)"
   ]
  },
  {
   "cell_type": "code",
   "execution_count": 72,
   "id": "9e203f3d",
   "metadata": {},
   "outputs": [
    {
     "name": "stdout",
     "output_type": "stream",
     "text": [
      "Welcome to the advance python course\n",
      "This is an advance python course\n",
      "hey, please learn this concept properly\n"
     ]
    }
   ],
   "source": [
    "@mainWelcome\n",
    "def courseInturoduction():\n",
    "    print('This is an advance python course')\n",
    "    "
   ]
  },
  {
   "cell_type": "code",
   "execution_count": 73,
   "id": "5d309e5b",
   "metadata": {},
   "outputs": [],
   "source": [
    "## Decorator \n",
    "def myDecorator(func):\n",
    "    def wraper():\n",
    "        print('Something is happening before the function is called.')\n",
    "        func()\n",
    "        print('Something is happening after the function is called.')\n",
    "    return wraper"
   ]
  },
  {
   "cell_type": "code",
   "execution_count": 75,
   "id": "e720b0c7",
   "metadata": {},
   "outputs": [],
   "source": [
    "@myDecorator\n",
    "def sayHello():\n",
    "    print('Hello')"
   ]
  },
  {
   "cell_type": "code",
   "execution_count": 76,
   "id": "b5e8957b",
   "metadata": {},
   "outputs": [
    {
     "name": "stdout",
     "output_type": "stream",
     "text": [
      "Something is happening before the function is called.\n",
      "Hello\n",
      "Something is happening after the function is called.\n"
     ]
    }
   ],
   "source": [
    "sayHello()"
   ]
  },
  {
   "cell_type": "code",
   "execution_count": 77,
   "id": "bc12cb31",
   "metadata": {},
   "outputs": [],
   "source": [
    "## Decorator with arguments\n",
    "def repeat(n):\n",
    "    def decorator(func):\n",
    "        def wraper(*args, **kwargs):\n",
    "            for _ in range(n):\n",
    "                func(*args, *kwargs)\n",
    "        return wraper\n",
    "    return decorator\n"
   ]
  },
  {
   "cell_type": "code",
   "execution_count": 78,
   "id": "6738b9ca",
   "metadata": {},
   "outputs": [],
   "source": [
    "@repeat(3)\n",
    "def sayHello():\n",
    "    print('Hello')"
   ]
  },
  {
   "cell_type": "code",
   "execution_count": 79,
   "id": "f8de7220",
   "metadata": {},
   "outputs": [
    {
     "name": "stdout",
     "output_type": "stream",
     "text": [
      "Hello\n",
      "Hello\n",
      "Hello\n"
     ]
    }
   ],
   "source": [
    "sayHello()"
   ]
  },
  {
   "cell_type": "code",
   "execution_count": null,
   "id": "e4727df8",
   "metadata": {},
   "outputs": [],
   "source": []
  }
 ],
 "metadata": {
  "kernelspec": {
   "display_name": "Python 3",
   "language": "python",
   "name": "python3"
  },
  "language_info": {
   "codemirror_mode": {
    "name": "ipython",
    "version": 3
   },
   "file_extension": ".py",
   "mimetype": "text/x-python",
   "name": "python",
   "nbconvert_exporter": "python",
   "pygments_lexer": "ipython3",
   "version": "3.13.5"
  }
 },
 "nbformat": 4,
 "nbformat_minor": 5
}
