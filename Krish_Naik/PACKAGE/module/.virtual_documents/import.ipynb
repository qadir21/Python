


from package.maths import addition
addition(2, 3)


from package.maths import addition
addition(2, 3)



