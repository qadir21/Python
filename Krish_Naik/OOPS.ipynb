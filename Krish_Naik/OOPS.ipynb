{
 "cells": [
  {
   "cell_type": "markdown",
   "id": "9b46a2a1",
   "metadata": {},
   "source": [
    "# OBJECT ORIENTED PROGRAMING"
   ]
  },
  {
   "cell_type": "code",
   "execution_count": null,
   "id": "67f59659",
   "metadata": {},
   "outputs": [
    {
     "name": "stdout",
     "output_type": "stream",
     "text": [
      "<class '__main__.Car'>\n"
     ]
    }
   ],
   "source": [
    "# A class is a blueprint for creating object , Attributs, Methods\n",
    "class Car:\n",
    "    pass\n",
    "audi = Car()\n",
    "bmw = Car()\n",
    "print(type(audi))"
   ]
  },
  {
   "cell_type": "code",
   "execution_count": 2,
   "id": "f9cdf6c5",
   "metadata": {},
   "outputs": [
    {
     "name": "stdout",
     "output_type": "stream",
     "text": [
      "<__main__.Car object at 0x11988f770>\n"
     ]
    }
   ],
   "source": [
    "print(audi)"
   ]
  },
  {
   "cell_type": "code",
   "execution_count": 3,
   "id": "92664ffb",
   "metadata": {},
   "outputs": [
    {
     "name": "stdout",
     "output_type": "stream",
     "text": [
      "<__main__.Car object at 0x1195edd10>\n"
     ]
    }
   ],
   "source": [
    "print(bmw)"
   ]
  },
  {
   "cell_type": "code",
   "execution_count": 7,
   "id": "707d6ecf",
   "metadata": {},
   "outputs": [
    {
     "name": "stdout",
     "output_type": "stream",
     "text": [
      "4\n"
     ]
    }
   ],
   "source": [
    "### instance variable and Methods\n",
    "audi.windows = 4\n",
    "print(audi.windows)"
   ]
  },
  {
   "cell_type": "code",
   "execution_count": 8,
   "id": "5087bb21",
   "metadata": {},
   "outputs": [
    {
     "name": "stdout",
     "output_type": "stream",
     "text": [
      "4\n"
     ]
    }
   ],
   "source": [
    "tata = Car()\n",
    "tata.doors = 4\n",
    "print(tata.doors)"
   ]
  },
  {
   "cell_type": "code",
   "execution_count": 9,
   "id": "160ccb67",
   "metadata": {},
   "outputs": [
    {
     "ename": "AttributeError",
     "evalue": "'Car' object has no attribute 'windows'",
     "output_type": "error",
     "traceback": [
      "\u001b[0;31m---------------------------------------------------------------------------\u001b[0m",
      "\u001b[0;31mAttributeError\u001b[0m                            Traceback (most recent call last)",
      "Cell \u001b[0;32mIn[9], line 1\u001b[0m\n\u001b[0;32m----> 1\u001b[0m \u001b[38;5;28mprint\u001b[39m(\u001b[43mtata\u001b[49m\u001b[38;5;241;43m.\u001b[39;49m\u001b[43mwindows\u001b[49m)\n",
      "\u001b[0;31mAttributeError\u001b[0m: 'Car' object has no attribute 'windows'"
     ]
    }
   ],
   "source": [
    "print(tata.windows)"
   ]
  },
  {
   "cell_type": "code",
   "execution_count": 10,
   "id": "804820ad",
   "metadata": {},
   "outputs": [
    {
     "data": {
      "text/plain": [
       "['__class__',\n",
       " '__delattr__',\n",
       " '__dict__',\n",
       " '__dir__',\n",
       " '__doc__',\n",
       " '__eq__',\n",
       " '__firstlineno__',\n",
       " '__format__',\n",
       " '__ge__',\n",
       " '__getattribute__',\n",
       " '__getstate__',\n",
       " '__gt__',\n",
       " '__hash__',\n",
       " '__init__',\n",
       " '__init_subclass__',\n",
       " '__le__',\n",
       " '__lt__',\n",
       " '__module__',\n",
       " '__ne__',\n",
       " '__new__',\n",
       " '__reduce__',\n",
       " '__reduce_ex__',\n",
       " '__repr__',\n",
       " '__setattr__',\n",
       " '__sizeof__',\n",
       " '__static_attributes__',\n",
       " '__str__',\n",
       " '__subclasshook__',\n",
       " '__weakref__',\n",
       " 'doors']"
      ]
     },
     "execution_count": 10,
     "metadata": {},
     "output_type": "execute_result"
    }
   ],
   "source": [
    "dir(tata)\n",
    "    "
   ]
  },
  {
   "cell_type": "code",
   "execution_count": 11,
   "id": "98fc698c",
   "metadata": {},
   "outputs": [
    {
     "ename": "TypeError",
     "evalue": "Dog.__init__() missing 2 required positional arguments: 'name' and 'age'",
     "output_type": "error",
     "traceback": [
      "\u001b[0;31m---------------------------------------------------------------------------\u001b[0m",
      "\u001b[0;31mTypeError\u001b[0m                                 Traceback (most recent call last)",
      "Cell \u001b[0;32mIn[11], line 7\u001b[0m\n\u001b[1;32m      4\u001b[0m         \u001b[38;5;28mself\u001b[39m\u001b[38;5;241m.\u001b[39mage \u001b[38;5;241m=\u001b[39m age\n\u001b[1;32m      6\u001b[0m \u001b[38;5;66;03m# create object \u001b[39;00m\n\u001b[0;32m----> 7\u001b[0m dog1 \u001b[38;5;241m=\u001b[39m \u001b[43mDog\u001b[49m\u001b[43m(\u001b[49m\u001b[43m)\u001b[49m\n",
      "\u001b[0;31mTypeError\u001b[0m: Dog.__init__() missing 2 required positional arguments: 'name' and 'age'"
     ]
    }
   ],
   "source": [
    "class Dog:\n",
    "    def __init__(self, name, age):\n",
    "        self.name = name\n",
    "        self.age = age\n",
    "        \n",
    "# create object \n",
    "dog1 = Dog()"
   ]
  },
  {
   "cell_type": "code",
   "execution_count": 12,
   "id": "375c89cd",
   "metadata": {},
   "outputs": [
    {
     "name": "stdout",
     "output_type": "stream",
     "text": [
      "<__main__.Dog object at 0x119b1e3c0>\n"
     ]
    }
   ],
   "source": [
    "class Dog:\n",
    "    def __init__(self, name, age):\n",
    "        self.name = name\n",
    "        self.age = age\n",
    "        \n",
    "# create object \n",
    "dog1 = Dog('Buddy', 3)\n",
    "print(dog1)"
   ]
  },
  {
   "cell_type": "code",
   "execution_count": 13,
   "id": "1180a0d3",
   "metadata": {},
   "outputs": [
    {
     "name": "stdout",
     "output_type": "stream",
     "text": [
      "Buddy\n",
      "3\n"
     ]
    }
   ],
   "source": [
    "print(dog1.name)\n",
    "print(dog1.age)"
   ]
  },
  {
   "cell_type": "code",
   "execution_count": 14,
   "id": "8cf56ba7",
   "metadata": {},
   "outputs": [
    {
     "name": "stdout",
     "output_type": "stream",
     "text": [
      "Luccy\n",
      "66\n"
     ]
    }
   ],
   "source": [
    "dog2 = Dog('Luccy', 66)\n",
    "print(dog2.name)\n",
    "print(dog2.age)"
   ]
  },
  {
   "cell_type": "code",
   "execution_count": 15,
   "id": "f487ecf5",
   "metadata": {},
   "outputs": [
    {
     "name": "stdout",
     "output_type": "stream",
     "text": [
      "<__main__.Cat object at 0x119b1e270>\n"
     ]
    }
   ],
   "source": [
    "class Cat:\n",
    "    def __init__(current, name, age):\n",
    "        current.name = name\n",
    "        current.age = age\n",
    "        \n",
    "# create object \n",
    "cat1 = Cat('Buddy', 3)\n",
    "print(cat1)"
   ]
  },
  {
   "cell_type": "code",
   "execution_count": 17,
   "id": "6c2bf9fe",
   "metadata": {},
   "outputs": [
    {
     "name": "stdout",
     "output_type": "stream",
     "text": [
      "Buddy\n"
     ]
    }
   ],
   "source": [
    "print(cat1.name)"
   ]
  },
  {
   "cell_type": "code",
   "execution_count": 20,
   "id": "76d1fc70",
   "metadata": {},
   "outputs": [
    {
     "ename": "TypeError",
     "evalue": "Cat.__init__() takes 2 positional arguments but 3 were given",
     "output_type": "error",
     "traceback": [
      "\u001b[0;31m---------------------------------------------------------------------------\u001b[0m",
      "\u001b[0;31mTypeError\u001b[0m                                 Traceback (most recent call last)",
      "Cell \u001b[0;32mIn[20], line 7\u001b[0m\n\u001b[1;32m      4\u001b[0m         age \u001b[38;5;241m=\u001b[39m y\n\u001b[1;32m      6\u001b[0m \u001b[38;5;66;03m# create object \u001b[39;00m\n\u001b[0;32m----> 7\u001b[0m cat1 \u001b[38;5;241m=\u001b[39m \u001b[43mCat\u001b[49m\u001b[43m(\u001b[49m\u001b[38;5;124;43m'\u001b[39;49m\u001b[38;5;124;43mBuddy\u001b[39;49m\u001b[38;5;124;43m'\u001b[39;49m\u001b[43m,\u001b[49m\u001b[38;5;241;43m6\u001b[39;49m\u001b[43m)\u001b[49m\n\u001b[1;32m      8\u001b[0m \u001b[38;5;28mprint\u001b[39m(cat1)\n",
      "\u001b[0;31mTypeError\u001b[0m: Cat.__init__() takes 2 positional arguments but 3 were given"
     ]
    }
   ],
   "source": [
    "class Cat:\n",
    "    def __init__(x, y):\n",
    "        name = x\n",
    "        age = y\n",
    "        \n",
    "# create object \n",
    "cat1 = Cat('Buddy',6)\n",
    "print(cat1)"
   ]
  },
  {
   "cell_type": "code",
   "execution_count": 22,
   "id": "68e7f620",
   "metadata": {},
   "outputs": [
    {
     "name": "stdout",
     "output_type": "stream",
     "text": [
      "Buddy says woof\n"
     ]
    }
   ],
   "source": [
    "class Dog:\n",
    "    def __init__(self, name, age):\n",
    "        self.name = name\n",
    "        self.age = age\n",
    "    def bark(self):\n",
    "        print(f'{self.name} says woof')\n",
    "dog1 = Dog('Buddy', 3)\n",
    "dog1.bark()"
   ]
  },
  {
   "cell_type": "code",
   "execution_count": 24,
   "id": "5dc03e45",
   "metadata": {},
   "outputs": [
    {
     "name": "stdout",
     "output_type": "stream",
     "text": [
      "Lucy says woof\n"
     ]
    }
   ],
   "source": [
    "dog2 = Dog('Lucy', 4)\n",
    "dog2.bark()"
   ]
  },
  {
   "cell_type": "code",
   "execution_count": null,
   "id": "29e3da03",
   "metadata": {},
   "outputs": [
    {
     "name": "stdout",
     "output_type": "stream",
     "text": [
      "5000\n"
     ]
    }
   ],
   "source": [
    "# Modeling a bank Account\n",
    "\n",
    "## Define a class for bank account.\n",
    "\n",
    "class BankAccount:\n",
    "    def __init__(self, owner, balance = 0):\n",
    "        self.owner = owner\n",
    "        self.balance = balance\n",
    "    def deposit(self, amount):\n",
    "        self.balance += amount\n",
    "        print(f'Hey,{amount} is deposited new balance is {self.balance}')\n",
    "    def withdraw(self, amount):\n",
    "        if amount > self.balance:\n",
    "            print('Hey Insufficient funds!')\n",
    "        else:\n",
    "            self.balance -= amount\n",
    "            print(f'Hey {amount} withdrawl, new balance is {self.balance}')\n",
    "    def get_balance(self):\n",
    "        return self.balance\n",
    "#create an acconut object\n",
    "account = BankAccount('Krish', 5000)\n",
    "print(account.balance)"
   ]
  },
  {
   "cell_type": "code",
   "execution_count": 27,
   "id": "77ef286a",
   "metadata": {},
   "outputs": [
    {
     "name": "stdout",
     "output_type": "stream",
     "text": [
      "Hey,100 is deposited new balance is 5100\n"
     ]
    }
   ],
   "source": [
    "# Call Instance method \n",
    "account.deposit(100)"
   ]
  },
  {
   "cell_type": "code",
   "execution_count": 28,
   "id": "4ccbe90a",
   "metadata": {},
   "outputs": [
    {
     "name": "stdout",
     "output_type": "stream",
     "text": [
      "300 withdrawl, nwew balance is 4800\n"
     ]
    }
   ],
   "source": [
    "account.withdraw(300)"
   ]
  },
  {
   "cell_type": "markdown",
   "id": "65d06f42",
   "metadata": {},
   "source": [
    "## Inheritence"
   ]
  },
  {
   "cell_type": "markdown",
   "id": "cd7bf8f7",
   "metadata": {},
   "source": [
    "## Parent class\n",
    "class Car:\n",
    "    def __init__(self, windows, doors, engineType):\n",
    "        self.windows = windows\n",
    "        self.doors = doors\n",
    "        self.engineType = engineType;\n",
    "        \n",
    "        def drive(self):\n",
    "            print(f'The person will drive {self.engineType} car')"
   ]
  },
  {
   "cell_type": "code",
   "execution_count": 5,
   "id": "2e30cf2f",
   "metadata": {},
   "outputs": [],
   "source": [
    "## Parent class\n",
    "class Car:\n",
    "    def __init__(self, windows, doors, engineType):\n",
    "        self.windows = windows\n",
    "        self.doors = doors\n",
    "        self.engineType = engineType\n",
    "        \n",
    "    def drive(self):\n",
    "        print(f'The person will drive {self.engineType} car')"
   ]
  },
  {
   "cell_type": "code",
   "execution_count": 6,
   "id": "3342c3eb",
   "metadata": {},
   "outputs": [
    {
     "name": "stdout",
     "output_type": "stream",
     "text": [
      "The person will drive Petrol car\n"
     ]
    }
   ],
   "source": [
    "car1 = Car(4, 5, 'Petrol')\n",
    "\n",
    "car1.drive()"
   ]
  },
  {
   "cell_type": "code",
   "execution_count": 10,
   "id": "c7fd1d34",
   "metadata": {},
   "outputs": [],
   "source": [
    "class Tesla(Car):\n",
    "    def __init__(self, windows, doors, engineType, is_SelfDriving):\n",
    "        super().__init__(windows, doors, engineType)\n",
    "        self.is_SelfDriving = is_SelfDriving\n",
    "        \n",
    "    def selfDriving(self):\n",
    "        print(f'Tesla Support selfdriving : {self.is_SelfDriving} ')"
   ]
  },
  {
   "cell_type": "code",
   "execution_count": 11,
   "id": "817f2716",
   "metadata": {},
   "outputs": [
    {
     "name": "stdout",
     "output_type": "stream",
     "text": [
      "Tesla Support selfdriving : True \n",
      "None\n"
     ]
    }
   ],
   "source": [
    "tesla1 = Tesla(4, 5, 'Electric', True)\n",
    "print(tesla1.selfDriving())"
   ]
  },
  {
   "cell_type": "code",
   "execution_count": 13,
   "id": "ac7d2219",
   "metadata": {},
   "outputs": [
    {
     "name": "stdout",
     "output_type": "stream",
     "text": [
      "The person will drive Electric car\n"
     ]
    }
   ],
   "source": [
    "tesla1.drive()"
   ]
  },
  {
   "cell_type": "code",
   "execution_count": null,
   "id": "847c7cfd",
   "metadata": {},
   "outputs": [],
   "source": [
    "### Multiple Inheritence\n",
    "### whe a class inherit more than one class."
   ]
  },
  {
   "cell_type": "code",
   "execution_count": 15,
   "id": "1099c8b7",
   "metadata": {},
   "outputs": [
    {
     "name": "stdout",
     "output_type": "stream",
     "text": [
      "Buddy says woof\n"
     ]
    }
   ],
   "source": [
    "## base class1\n",
    "class Animal:\n",
    "    def __init__(self, name):\n",
    "        self.name = name\n",
    "    def speek(self):\n",
    "        print(f'subclasses must impliments this method.')\n",
    "    \n",
    "## base class2\n",
    "class Pet:\n",
    "    def __init__(self, owner):\n",
    "        self.owner = owner\n",
    "        \n",
    "# derived class\n",
    "class Dog(Animal, Pet):\n",
    "    def __init__(self, name, owner):\n",
    "        Animal.__init__(self,name)\n",
    "        Pet.__init__(self, owner)\n",
    "        \n",
    "    def speek(self):\n",
    "        return f'{self.name} says woof'\n",
    "\n",
    "## Create an object\n",
    "dog = Dog('Buddy', 'Krish')\n",
    "print(dog.speek())"
   ]
  },
  {
   "cell_type": "code",
   "execution_count": 16,
   "id": "82189669",
   "metadata": {},
   "outputs": [
    {
     "name": "stdout",
     "output_type": "stream",
     "text": [
      "Owner: Krish\n"
     ]
    }
   ],
   "source": [
    "print(f'Owner: {dog.owner}')"
   ]
  },
  {
   "cell_type": "markdown",
   "id": "b08dd81e",
   "metadata": {},
   "source": [
    "## Polymorphism"
   ]
  },
  {
   "cell_type": "markdown",
   "id": "74323a9b",
   "metadata": {},
   "source": [
    "### Method overriding"
   ]
  },
  {
   "cell_type": "code",
   "execution_count": null,
   "id": "41a638df",
   "metadata": {},
   "outputs": [],
   "source": [
    "### base class\n",
    "class Animal:\n",
    "    def speak(self): \n",
    "        return 'the sound of the animal'"
   ]
  },
  {
   "cell_type": "code",
   "execution_count": 21,
   "id": "91090e95",
   "metadata": {},
   "outputs": [
    {
     "name": "stdout",
     "output_type": "stream",
     "text": [
      "woof!\n",
      "Meow!\n"
     ]
    }
   ],
   "source": [
    "## derive class\n",
    "class Dog(Animal):\n",
    "    def speak(self):\n",
    "        return 'woof!'\n",
    "\n",
    "class Cat(Animal):\n",
    "    def speak(self):\n",
    "        return 'Meow!'\n",
    "\n",
    "dog = Dog()\n",
    "print(dog.speak())\n",
    "\n",
    "cat = Cat()\n",
    "print(cat.speak())"
   ]
  },
  {
   "cell_type": "code",
   "execution_count": 22,
   "id": "0659035d",
   "metadata": {},
   "outputs": [
    {
     "name": "stdout",
     "output_type": "stream",
     "text": [
      "woof!\n"
     ]
    }
   ],
   "source": [
    "## Function that demonstrates polymorphism\n",
    "def animal_speak(animal):\n",
    "    print(animal.speak())\n",
    "    \n",
    "animal_speak(dog)"
   ]
  },
  {
   "cell_type": "code",
   "execution_count": 23,
   "id": "c89b5040",
   "metadata": {},
   "outputs": [
    {
     "name": "stdout",
     "output_type": "stream",
     "text": [
      "The area is 20\n",
      "The area is 28.259999999999998\n"
     ]
    }
   ],
   "source": [
    "### Polymorphism with funstion and methods\n",
    "### base class\n",
    "class Shape:\n",
    "    def area(self):\n",
    "        return 'The area of the figure'\n",
    "\n",
    "### Derived class\n",
    "class Rectangle(Shape):\n",
    "    def __init__(self, width, height):\n",
    "        self.width = width\n",
    "        self.height = height\n",
    "        \n",
    "    def area(self):\n",
    "        return self.width * self.height\n",
    "\n",
    "### derived class 2\n",
    "class Circle(Shape):\n",
    "    def __init__(self, radius):\n",
    "        self.radius = radius\n",
    "        \n",
    "    def area(self):\n",
    "        return 3.14 * self.radius * self.radius\n",
    "    \n",
    "### Function that demonstrate area\n",
    "def printArea(Shape):\n",
    "    print(f'The area is {Shape.area()}')\n",
    "\n",
    "rectangle = Rectangle(4, 5)\n",
    "circle = Circle(3)\n",
    "\n",
    "printArea(rectangle)\n",
    "printArea(circle)"
   ]
  },
  {
   "cell_type": "code",
   "execution_count": 24,
   "id": "d4c970f3",
   "metadata": {},
   "outputs": [
    {
     "name": "stdout",
     "output_type": "stream",
     "text": [
      "The Car engine started\n",
      "MotorCycle engine started\n"
     ]
    }
   ],
   "source": [
    "### Polymorprphism with abstract base classes\n",
    "from abc import ABC, abstractmethod\n",
    "\n",
    "### Define an abstract class \n",
    "class Vehicle(ABC):\n",
    "    @abstractmethod\n",
    "    \n",
    "    def startEngine(self):\n",
    "        pass\n",
    "    \n",
    "### Derived Class 1 \n",
    "class Car(Vehicle):\n",
    "    def startEngine(self):\n",
    "        return 'The Car engine started'\n",
    "\n",
    "### Derived class 2\n",
    "class MotorCycle(Vehicle):\n",
    "    def startEngine(self):\n",
    "        return 'MotorCycle engine started'\n",
    "    \n",
    "### Function Demonstrate Polymorphism\n",
    "def startVehicle(vehicle):\n",
    "    print(vehicle.startEngine())\n",
    "\n",
    "### CReate objects of Car and MotorCycle\n",
    "car =Car()\n",
    "motorCycle = MotorCycle()\n",
    "\n",
    "startVehicle(car)\n",
    "startVehicle(motorCycle)\n"
   ]
  },
  {
   "cell_type": "markdown",
   "id": "7f2c33d5",
   "metadata": {},
   "source": [
    "## Magic Method"
   ]
  },
  {
   "cell_type": "code",
   "execution_count": 1,
   "id": "8b62459b",
   "metadata": {},
   "outputs": [
    {
     "data": {
      "text/plain": [
       "['__class__',\n",
       " '__delattr__',\n",
       " '__dict__',\n",
       " '__dir__',\n",
       " '__doc__',\n",
       " '__eq__',\n",
       " '__firstlineno__',\n",
       " '__format__',\n",
       " '__ge__',\n",
       " '__getattribute__',\n",
       " '__getstate__',\n",
       " '__gt__',\n",
       " '__hash__',\n",
       " '__init__',\n",
       " '__init_subclass__',\n",
       " '__le__',\n",
       " '__lt__',\n",
       " '__module__',\n",
       " '__ne__',\n",
       " '__new__',\n",
       " '__reduce__',\n",
       " '__reduce_ex__',\n",
       " '__repr__',\n",
       " '__setattr__',\n",
       " '__sizeof__',\n",
       " '__static_attributes__',\n",
       " '__str__',\n",
       " '__subclasshook__',\n",
       " '__weakref__']"
      ]
     },
     "execution_count": 1,
     "metadata": {},
     "output_type": "execute_result"
    }
   ],
   "source": [
    "class Person:\n",
    "    pass\n",
    "person = Person()\n",
    "dir(person)"
   ]
  },
  {
   "cell_type": "code",
   "execution_count": 2,
   "id": "38ec5f57",
   "metadata": {},
   "outputs": [
    {
     "name": "stdout",
     "output_type": "stream",
     "text": [
      "<__main__.Person object at 0x10668fcb0>\n"
     ]
    }
   ],
   "source": [
    "print(person)"
   ]
  },
  {
   "cell_type": "code",
   "execution_count": 3,
   "id": "6d34e462",
   "metadata": {},
   "outputs": [
    {
     "name": "stdout",
     "output_type": "stream",
     "text": [
      "<__main__.Person object at 0x106720d70>\n"
     ]
    }
   ],
   "source": [
    "## Basic Method\n",
    "class Person:\n",
    "    def __init__(self, name, age):\n",
    "        self.name = name\n",
    "        self.age = age\n",
    "\n",
    "person = Person('Krish', 34)\n",
    "print(person)"
   ]
  },
  {
   "cell_type": "code",
   "execution_count": 6,
   "id": "a7f24170",
   "metadata": {},
   "outputs": [
    {
     "name": "stdout",
     "output_type": "stream",
     "text": [
      "Krish , 34 year old.\n",
      "Person(name + Krish, age = 34)\n"
     ]
    }
   ],
   "source": [
    "class Person:\n",
    "    def __init__(self, name, age):\n",
    "        self.name = name\n",
    "        self.age = age\n",
    "        \n",
    "    def __str__(self):\n",
    "        return  f'{self.name} , {self.age} year old.'\n",
    "    \n",
    "    def __repr__(self):\n",
    "        return f'Person(name + {self.name}, age = {self.age})'\n",
    "    \n",
    "person = Person('Krish', 34)\n",
    "print(person)\n",
    "print(repr(person))"
   ]
  },
  {
   "cell_type": "markdown",
   "id": "0b79e220",
   "metadata": {},
   "source": [
    "## Operator Overloding"
   ]
  },
  {
   "cell_type": "code",
   "execution_count": null,
   "id": "0862f8f4",
   "metadata": {},
   "outputs": [
    {
     "name": "stdout",
     "output_type": "stream",
     "text": [
      "Vector(6, 8)\n"
     ]
    }
   ],
   "source": [
    "###  mathematical function for vectors\n",
    "class Vector:\n",
    "    def __init__(self, x, y):\n",
    "        self.x = x\n",
    "        self.y = y\n",
    "        \n",
    "    def __add__(self, other):\n",
    "        return Vector(self.x + other.x, self.y + other.y)\n",
    "    \n",
    "    def __sub__(self, other):\n",
    "        return Vector(self.x - other.x, self.y - other.y)\n",
    "    \n",
    "    def __mul__(self, other):\n",
    "        return Vector(self.x * other.x, self.y * other.y)\n",
    "    \n",
    "    def __eq__(self, other):\n",
    "        return self.x == other.x and self.y == other.y\n",
    "\n",
    "    def __repr__(self):\n",
    "        return f'Vector({self.x}, {self.y})'\n",
    "    \n",
    "## Creating Object\n",
    "v1 = Vector(2, 3)\n",
    "v2 = Vector(4, 5)\n",
    "\n",
    "print(v1 + v2)"
   ]
  },
  {
   "cell_type": "code",
   "execution_count": 8,
   "id": "49720b7d",
   "metadata": {},
   "outputs": [
    {
     "name": "stdout",
     "output_type": "stream",
     "text": [
      "Vector(-2, -2)\n"
     ]
    }
   ],
   "source": [
    "print(v1 - v2)"
   ]
  },
  {
   "cell_type": "code",
   "execution_count": 9,
   "id": "6b2fa668",
   "metadata": {},
   "outputs": [
    {
     "name": "stdout",
     "output_type": "stream",
     "text": [
      "Vector(8, 15)\n"
     ]
    }
   ],
   "source": [
    "print(v1 * v2)"
   ]
  },
  {
   "cell_type": "code",
   "execution_count": 10,
   "id": "d4a8eb50",
   "metadata": {},
   "outputs": [
    {
     "ename": "AttributeError",
     "evalue": "'int' object has no attribute 'x'",
     "output_type": "error",
     "traceback": [
      "\u001b[0;31m---------------------------------------------------------------------------\u001b[0m",
      "\u001b[0;31mAttributeError\u001b[0m                            Traceback (most recent call last)",
      "Cell \u001b[0;32mIn[10], line 1\u001b[0m\n\u001b[0;32m----> 1\u001b[0m \u001b[38;5;28mprint\u001b[39m(\u001b[43mv1\u001b[49m\u001b[43m \u001b[49m\u001b[38;5;241;43m*\u001b[39;49m\u001b[43m \u001b[49m\u001b[38;5;241;43m3\u001b[39;49m)\n",
      "Cell \u001b[0;32mIn[7], line 13\u001b[0m, in \u001b[0;36mVector.__mul__\u001b[0;34m(self, other)\u001b[0m\n\u001b[1;32m     12\u001b[0m \u001b[38;5;28;01mdef\u001b[39;00m\u001b[38;5;250m \u001b[39m\u001b[38;5;21m__mul__\u001b[39m(\u001b[38;5;28mself\u001b[39m, other):\n\u001b[0;32m---> 13\u001b[0m     \u001b[38;5;28;01mreturn\u001b[39;00m Vector(\u001b[38;5;28mself\u001b[39m\u001b[38;5;241m.\u001b[39mx \u001b[38;5;241m*\u001b[39m \u001b[43mother\u001b[49m\u001b[38;5;241;43m.\u001b[39;49m\u001b[43mx\u001b[49m, \u001b[38;5;28mself\u001b[39m\u001b[38;5;241m.\u001b[39my \u001b[38;5;241m*\u001b[39m other\u001b[38;5;241m.\u001b[39my)\n",
      "\u001b[0;31mAttributeError\u001b[0m: 'int' object has no attribute 'x'"
     ]
    }
   ],
   "source": [
    "print(v1 * 3)"
   ]
  },
  {
   "cell_type": "code",
   "execution_count": 11,
   "id": "45690c42",
   "metadata": {},
   "outputs": [],
   "source": [
    "### Custom Exception(Raise and Throw an exception)\n",
    "class Error(Exception):\n",
    "    pass\n",
    "\n",
    "class DobException(Exception):\n",
    "    pass\n",
    "\n"
   ]
  },
  {
   "cell_type": "code",
   "execution_count": 14,
   "id": "00664e0c",
   "metadata": {},
   "outputs": [
    {
     "name": "stdout",
     "output_type": "stream",
     "text": [
      "Hey, Sorry your age should be greater than 20 and less than 30\n"
     ]
    }
   ],
   "source": [
    "year = int(input('Hey, user please enter DOB: '))\n",
    "age = 2025 -year\n",
    "\n",
    "try: \n",
    "    if age <= 20 and age >= 20:\n",
    "        print('The age is valid so you can apply for the exam.')\n",
    "    else:\n",
    "        raise DobException\n",
    "except DobException:\n",
    "    print('Hey, Sorry your age should be greater than 20 and less than 30')"
   ]
  },
  {
   "cell_type": "code",
   "execution_count": null,
   "id": "3fc2c25c",
   "metadata": {},
   "outputs": [],
   "source": []
  }
 ],
 "metadata": {
  "kernelspec": {
   "display_name": "Python 3",
   "language": "python",
   "name": "python3"
  },
  "language_info": {
   "codemirror_mode": {
    "name": "ipython",
    "version": 3
   },
   "file_extension": ".py",
   "mimetype": "text/x-python",
   "name": "python",
   "nbconvert_exporter": "python",
   "pygments_lexer": "ipython3",
   "version": "3.13.5"
  }
 },
 "nbformat": 4,
 "nbformat_minor": 5
}
