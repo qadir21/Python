{
 "cells": [
  {
   "cell_type": "markdown",
   "id": "42bc5d04",
   "metadata": {},
   "source": [
    "# Exception Handling"
   ]
  },
  {
   "cell_type": "code",
   "execution_count": 1,
   "id": "9d03f860",
   "metadata": {},
   "outputs": [
    {
     "ename": "NameError",
     "evalue": "name 'b' is not defined",
     "output_type": "error",
     "traceback": [
      "\u001b[0;31m---------------------------------------------------------------------------\u001b[0m",
      "\u001b[0;31mNameError\u001b[0m                                 Traceback (most recent call last)",
      "Cell \u001b[0;32mIn[1], line 1\u001b[0m\n\u001b[0;32m----> 1\u001b[0m a \u001b[38;5;241m=\u001b[39m \u001b[43mb\u001b[49m\n",
      "\u001b[0;31mNameError\u001b[0m: name 'b' is not defined"
     ]
    }
   ],
   "source": [
    "a = b"
   ]
  },
  {
   "cell_type": "code",
   "execution_count": 3,
   "id": "8cc597fb",
   "metadata": {},
   "outputs": [
    {
     "name": "stdout",
     "output_type": "stream",
     "text": [
      "Hey, The variable has not been assigned\n"
     ]
    }
   ],
   "source": [
    "## Exception try except block\n",
    "try:\n",
    "    a = b\n",
    "except:\n",
    "    print(\"Hey, The variable has not been assigned\")"
   ]
  },
  {
   "cell_type": "code",
   "execution_count": null,
   "id": "7aa39a41",
   "metadata": {},
   "outputs": [
    {
     "name": "stdout",
     "output_type": "stream",
     "text": [
      "name 'b' is not defined\n"
     ]
    }
   ],
   "source": [
    "try:\n",
    "    a = b\n",
    "except NameError as ex: # NameError is the error class.\n",
    "    print(ex)"
   ]
  },
  {
   "cell_type": "code",
   "execution_count": 5,
   "id": "ba4e3a25",
   "metadata": {},
   "outputs": [
    {
     "ename": "ZeroDivisionError",
     "evalue": "division by zero",
     "output_type": "error",
     "traceback": [
      "\u001b[0;31m---------------------------------------------------------------------------\u001b[0m",
      "\u001b[0;31mZeroDivisionError\u001b[0m                         Traceback (most recent call last)",
      "Cell \u001b[0;32mIn[5], line 1\u001b[0m\n\u001b[0;32m----> 1\u001b[0m result \u001b[38;5;241m=\u001b[39m \u001b[38;5;241;43m1\u001b[39;49m\u001b[43m \u001b[49m\u001b[38;5;241;43m/\u001b[39;49m\u001b[43m \u001b[49m\u001b[38;5;241;43m0\u001b[39;49m\n",
      "\u001b[0;31mZeroDivisionError\u001b[0m: division by zero"
     ]
    }
   ],
   "source": [
    "result = 1 / 0"
   ]
  },
  {
   "cell_type": "code",
   "execution_count": 7,
   "id": "dfa48e14",
   "metadata": {},
   "outputs": [
    {
     "name": "stdout",
     "output_type": "stream",
     "text": [
      "division by zero\n",
      "Please enter the nonzero Denominator\n"
     ]
    }
   ],
   "source": [
    "try:\n",
    "    resulit = 1 / 0\n",
    "except ZeroDivisionError as er:\n",
    "    print(er)\n",
    "    print('Please enter the nonzero Denominator') # these are the sub classes of main class"
   ]
  },
  {
   "cell_type": "code",
   "execution_count": 9,
   "id": "eef202de",
   "metadata": {},
   "outputs": [
    {
     "ename": "NameError",
     "evalue": "name 'b' is not defined",
     "output_type": "error",
     "traceback": [
      "\u001b[0;31m---------------------------------------------------------------------------\u001b[0m",
      "\u001b[0;31mNameError\u001b[0m                                 Traceback (most recent call last)",
      "Cell \u001b[0;32mIn[9], line 3\u001b[0m\n\u001b[1;32m      1\u001b[0m \u001b[38;5;28;01mtry\u001b[39;00m:\n\u001b[1;32m      2\u001b[0m     resulit \u001b[38;5;241m=\u001b[39m \u001b[38;5;241m1\u001b[39m \u001b[38;5;241m/\u001b[39m \u001b[38;5;241m2\u001b[39m\n\u001b[0;32m----> 3\u001b[0m     a \u001b[38;5;241m=\u001b[39m \u001b[43mb\u001b[49m\n\u001b[1;32m      4\u001b[0m \u001b[38;5;28;01mexcept\u001b[39;00m \u001b[38;5;167;01mZeroDivisionError\u001b[39;00m \u001b[38;5;28;01mas\u001b[39;00m er:\n\u001b[1;32m      5\u001b[0m     \u001b[38;5;28mprint\u001b[39m(er)\n",
      "\u001b[0;31mNameError\u001b[0m: name 'b' is not defined"
     ]
    }
   ],
   "source": [
    "try:\n",
    "    resulit = 1 / 2\n",
    "    a = b\n",
    "except ZeroDivisionError as er:\n",
    "    print(er)\n",
    "    print('Please enter the nonzero Denominator') # these are the sub classes of main class"
   ]
  },
  {
   "cell_type": "code",
   "execution_count": 11,
   "id": "9ec24353",
   "metadata": {},
   "outputs": [
    {
     "name": "stdout",
     "output_type": "stream",
     "text": [
      "main exception got caoutch here.\n"
     ]
    }
   ],
   "source": [
    "try:\n",
    "    resulit = 1 / 2\n",
    "    a = b\n",
    "except ZeroDivisionError as er:\n",
    "    print(er)\n",
    "    print('Please enter the nonzero Denominator') # these are the sub classes of main class\n",
    "except Exception as ex:\n",
    "    print('main exception got caoutch here.')"
   ]
  },
  {
   "cell_type": "code",
   "execution_count": 15,
   "id": "fcfe5607",
   "metadata": {},
   "outputs": [
    {
     "name": "stdout",
     "output_type": "stream",
     "text": [
      "Not a valid number\n"
     ]
    }
   ],
   "source": [
    "try:\n",
    "    num = int(input(\"Please enter a number: \"))\n",
    "    result = 10 / num\n",
    "except ValueError:\n",
    "    print('Not a valid number')\n",
    "except ZeroDivisionError:\n",
    "    print('Enter nonzero number')"
   ]
  },
  {
   "cell_type": "code",
   "execution_count": null,
   "id": "c8e16291",
   "metadata": {},
   "outputs": [
    {
     "name": "stdout",
     "output_type": "stream",
     "text": [
      "Please enter nonzero number\n"
     ]
    }
   ],
   "source": [
    "try:\n",
    "    num = int(input('Enter a number:'))\n",
    "    result = 10 / num\n",
    "except ZeroDivisionError:\n",
    "    print('Please enter nonzero number!')\n",
    "except ValueError:\n",
    "    print('Plaese enter a valid number')\n",
    "except Exception as ex:\n",
    "    print(ex)\n",
    "else:\n",
    "    print(f'Hey, the result is {result}')"
   ]
  },
  {
   "cell_type": "code",
   "execution_count": 25,
   "id": "362ae587",
   "metadata": {},
   "outputs": [
    {
     "name": "stdout",
     "output_type": "stream",
     "text": [
      "Please enter nonzero number!\n",
      "Execution complete.\n"
     ]
    }
   ],
   "source": [
    "# try cexept else finally\n",
    "try:\n",
    "    num = int(input('Enter a number:'))\n",
    "    result = 10 / num\n",
    "except ZeroDivisionError:\n",
    "    print('Please enter nonzero number!')\n",
    "except ValueError:\n",
    "    print('Plaese enter a valid number')\n",
    "except Exception as ex:\n",
    "    print(ex)\n",
    "else:\n",
    "    print(f'Hey, the result is {result}')\n",
    "finally:\n",
    "    print('Execution complete.')\n"
   ]
  },
  {
   "cell_type": "code",
   "execution_count": null,
   "id": "3caefada",
   "metadata": {},
   "outputs": [
    {
     "name": "stdout",
     "output_type": "stream",
     "text": [
      "the file does not exist.\n"
     ]
    }
   ],
   "source": [
    "# File Handling and exception handling\n",
    "try:\n",
    "    file = open('example.txt', 'r')\n",
    "    content = file.read()\n",
    "    a = b\n",
    "    print(content)\n",
    "except FileNotFoundError:\n",
    "    print('the file does not exist.')\n",
    "finally:\n",
    "    if 'file' in locals() and not file.close():\n",
    "        file.close()\n",
    "        print('File close')"
   ]
  },
  {
   "cell_type": "code",
   "execution_count": 29,
   "id": "d8a0f830",
   "metadata": {},
   "outputs": [
    {
     "name": "stdout",
     "output_type": "stream",
     "text": [
      "name 'b' is not defined\n",
      "File close\n"
     ]
    }
   ],
   "source": [
    "try:\n",
    "    file = open('example.txt', 'r')\n",
    "    content = file.read()\n",
    "    a = b\n",
    "    print(content)\n",
    "except FileNotFoundError:\n",
    "    print('the file does not exist.')\n",
    "except Exception as ex:\n",
    "    print(ex)\n",
    "finally:\n",
    "    if 'file' in locals() and not file.close():\n",
    "        file.close()\n",
    "        print('File close')"
   ]
  },
  {
   "cell_type": "code",
   "execution_count": null,
   "id": "312feaf6",
   "metadata": {},
   "outputs": [],
   "source": []
  }
 ],
 "metadata": {
  "kernelspec": {
   "display_name": "Python 3",
   "language": "python",
   "name": "python3"
  },
  "language_info": {
   "codemirror_mode": {
    "name": "ipython",
    "version": 3
   },
   "file_extension": ".py",
   "mimetype": "text/x-python",
   "name": "python",
   "nbconvert_exporter": "python",
   "pygments_lexer": "ipython3",
   "version": "3.13.5"
  }
 },
 "nbformat": 4,
 "nbformat_minor": 5
}
