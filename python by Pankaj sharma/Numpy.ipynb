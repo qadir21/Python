{
 "cells": [
  {
   "cell_type": "markdown",
   "id": "a8de0e97-10f4-4294-ac6a-317c724f603d",
   "metadata": {},
   "source": [
    "## NUMPY"
   ]
  },
  {
   "cell_type": "code",
   "execution_count": 3,
   "id": "efc4c13b-8db9-4b43-8431-8589381e9c15",
   "metadata": {},
   "outputs": [
    {
     "name": "stdout",
     "output_type": "stream",
     "text": [
      "Numpy\n"
     ]
    }
   ],
   "source": [
    "print('Numpy')"
   ]
  },
  {
   "cell_type": "code",
   "execution_count": 5,
   "id": "0ffef3fc-b9de-4106-9b58-571485715eec",
   "metadata": {},
   "outputs": [],
   "source": [
    "import numpy as np"
   ]
  },
  {
   "cell_type": "markdown",
   "id": "553d4dad-402a-4620-ab9f-10c52e3b405c",
   "metadata": {},
   "source": [
    "## CREATING ARRAY FROM LIST"
   ]
  },
  {
   "cell_type": "code",
   "execution_count": 8,
   "id": "9d6bc11c-e9e2-45f5-9105-0c0a1818fc93",
   "metadata": {},
   "outputs": [
    {
     "name": "stdout",
     "output_type": "stream",
     "text": [
      "1D array: [1 2 3 4 5]\n"
     ]
    }
   ],
   "source": [
    "arr_1d = np.array([1, 2, 3, 4, 5])\n",
    "print('1D array:', arr_1d)"
   ]
  },
  {
   "cell_type": "code",
   "execution_count": 10,
   "id": "99f4e026-a3e7-4154-aa95-eb5ec0b1e970",
   "metadata": {},
   "outputs": [
    {
     "ename": "TypeError",
     "evalue": "Field elements must be 2- or 3-tuples, got '4'",
     "output_type": "error",
     "traceback": [
      "\u001b[31m---------------------------------------------------------------------------\u001b[39m",
      "\u001b[31mTypeError\u001b[39m                                 Traceback (most recent call last)",
      "\u001b[36mCell\u001b[39m\u001b[36m \u001b[39m\u001b[32mIn[10]\u001b[39m\u001b[32m, line 1\u001b[39m\n\u001b[32m----> \u001b[39m\u001b[32m1\u001b[39m arr_2d = \u001b[43mnp\u001b[49m\u001b[43m.\u001b[49m\u001b[43marray\u001b[49m\u001b[43m(\u001b[49m\u001b[43m[\u001b[49m\u001b[32;43m1\u001b[39;49m\u001b[43m,\u001b[49m\u001b[43m \u001b[49m\u001b[32;43m2\u001b[39;49m\u001b[43m,\u001b[49m\u001b[43m \u001b[49m\u001b[32;43m3\u001b[39;49m\u001b[43m]\u001b[49m\u001b[43m,\u001b[49m\u001b[43m \u001b[49m\u001b[43m[\u001b[49m\u001b[32;43m4\u001b[39;49m\u001b[43m,\u001b[49m\u001b[43m \u001b[49m\u001b[32;43m5\u001b[39;49m\u001b[43m,\u001b[49m\u001b[43m \u001b[49m\u001b[32;43m6\u001b[39;49m\u001b[43m]\u001b[49m\u001b[43m)\u001b[49m\n\u001b[32m      2\u001b[39m \u001b[38;5;28mprint\u001b[39m(\u001b[33m'\u001b[39m\u001b[33m2D array:\u001b[39m\u001b[33m'\u001b[39m, arr_2d)\n",
      "\u001b[31mTypeError\u001b[39m: Field elements must be 2- or 3-tuples, got '4'"
     ]
    }
   ],
   "source": [
    "arr_2d = np.array([1, 2, 3], [4, 5, 6])\n",
    "print('2D array:', arr_2d)"
   ]
  },
  {
   "cell_type": "code",
   "execution_count": 12,
   "id": "f2c370af-31ae-4f70-9b04-c196cc58f3cf",
   "metadata": {},
   "outputs": [
    {
     "name": "stdout",
     "output_type": "stream",
     "text": [
      "2D array: [[1 2 3]\n",
      " [4 5 6]]\n"
     ]
    }
   ],
   "source": [
    "arr_2d = np.array([[1, 2, 3], [4, 5, 6]])\n",
    "print('2D array:', arr_2d)"
   ]
  },
  {
   "cell_type": "markdown",
   "id": "cc4f68ca-0690-403f-9c27-5552e8c9bb3c",
   "metadata": {},
   "source": [
    "### List vs Numpy Array"
   ]
  },
  {
   "cell_type": "code",
   "execution_count": 15,
   "id": "e7a602eb-ccc8-4385-99e9-68ecc3a2ca8d",
   "metadata": {},
   "outputs": [
    {
     "name": "stdout",
     "output_type": "stream",
     "text": [
      "[1, 2, 3]\n"
     ]
    }
   ],
   "source": [
    "py_list = [1, 2, 3]\n",
    "print(py_list)"
   ]
  },
  {
   "cell_type": "code",
   "execution_count": 17,
   "id": "40ffd87f-9e4e-404a-871d-95c412571ddf",
   "metadata": {},
   "outputs": [
    {
     "name": "stdout",
     "output_type": "stream",
     "text": [
      "Python List Multiplication  [1, 2, 3, 1, 2, 3]\n",
      "[1, 2, 3]\n"
     ]
    }
   ],
   "source": [
    "print('Python List Multiplication ', py_list * 2)\n",
    "print(py_list)"
   ]
  },
  {
   "cell_type": "code",
   "execution_count": 19,
   "id": "893c1ff9-5eef-4543-8eb8-a0112781aefc",
   "metadata": {},
   "outputs": [
    {
     "name": "stdout",
     "output_type": "stream",
     "text": [
      "Python Array Multiplication  [2 4 6]\n"
     ]
    }
   ],
   "source": [
    "np_array = np.array([1, 2, 3])\n",
    "print('Python Array Multiplication ', np_array * 2)"
   ]
  },
  {
   "cell_type": "code",
   "execution_count": 21,
   "id": "1f7f1d3d-089b-4abd-9d1c-b67c20d9d4d4",
   "metadata": {},
   "outputs": [
    {
     "name": "stdout",
     "output_type": "stream",
     "text": [
      "list operation time: 0.05512809753417969\n",
      "\n",
      " Numpy array operation time: 0.025082111358642578\n"
     ]
    }
   ],
   "source": [
    "import time\n",
    "start = time.time()\n",
    "py_list = [i * 2 for i in range(1000000)]\n",
    "print('list operation time:', time.time() - start)\n",
    "start = time.time()\n",
    "np_array = np.arange(10000000) * 2\n",
    "print('\\n Numpy array operation time:', time.time() - start)"
   ]
  },
  {
   "cell_type": "markdown",
   "id": "6d48f943-398e-4a08-8ce8-c8e3bed10b90",
   "metadata": {},
   "source": [
    "## Creating Array from scratch"
   ]
  },
  {
   "cell_type": "code",
   "execution_count": 24,
   "id": "4466bf54-0ff0-4a3c-a47a-986eae416acc",
   "metadata": {},
   "outputs": [
    {
     "name": "stdout",
     "output_type": "stream",
     "text": [
      "Zeros array:\n",
      " [[0. 0. 0. 0.]\n",
      " [0. 0. 0. 0.]\n",
      " [0. 0. 0. 0.]]\n"
     ]
    }
   ],
   "source": [
    "zeros = np.zeros((3, 4))\n",
    "print('Zeros array:\\n', zeros)"
   ]
  },
  {
   "cell_type": "code",
   "execution_count": 25,
   "id": "dc80a705-1db2-45f0-a6f3-e6e7e1ac7ae9",
   "metadata": {},
   "outputs": [
    {
     "name": "stdout",
     "output_type": "stream",
     "text": [
      "Ones array:\n",
      " [[1. 1. 1. 1.]\n",
      " [1. 1. 1. 1.]\n",
      " [1. 1. 1. 1.]]\n"
     ]
    }
   ],
   "source": [
    "ones = np.ones((3, 4))\n",
    "print('Ones array:\\n', ones)"
   ]
  },
  {
   "cell_type": "code",
   "execution_count": 28,
   "id": "8bd518c5-5b30-4c62-a206-62f45302e693",
   "metadata": {},
   "outputs": [
    {
     "name": "stdout",
     "output_type": "stream",
     "text": [
      "Full array:\n",
      " [[7 7]\n",
      " [7 7]]\n"
     ]
    }
   ],
   "source": [
    "full = np.full((2, 2), 7)\n",
    "print('Full array:\\n', full) "
   ]
  },
  {
   "cell_type": "code",
   "execution_count": 29,
   "id": "a4ecf150-decb-41aa-913d-539e6a80ed45",
   "metadata": {},
   "outputs": [
    {
     "name": "stdout",
     "output_type": "stream",
     "text": [
      "Random array:\n",
      " [[0.11083685 0.48636507 0.41243445]\n",
      " [0.04824132 0.21936713 0.44669353]]\n"
     ]
    }
   ],
   "source": [
    "random = np.random.random((2, 3))\n",
    "print('Random array:\\n', random)"
   ]
  },
  {
   "cell_type": "code",
   "execution_count": 31,
   "id": "c70dbe7c-d97e-4940-a7ec-f686408cd696",
   "metadata": {},
   "outputs": [
    {
     "name": "stdout",
     "output_type": "stream",
     "text": [
      "Sequence Array:\n",
      " [0 2 4 6 8]\n"
     ]
    }
   ],
   "source": [
    "sequence = np.arange(0, 10, 2)\n",
    "print('Sequence Array:\\n', sequence)"
   ]
  },
  {
   "cell_type": "markdown",
   "id": "d1f55cfe-166e-49e6-b1cf-57ca5a1cf07b",
   "metadata": {},
   "source": [
    "## VECTOR, MATRIX, TENSOR"
   ]
  },
  {
   "cell_type": "code",
   "execution_count": 34,
   "id": "b1ee0e97-effb-460d-8023-4c954be2ea98",
   "metadata": {},
   "outputs": [
    {
     "name": "stdout",
     "output_type": "stream",
     "text": [
      "Vector Array:\n",
      " [1 2 3]\n"
     ]
    }
   ],
   "source": [
    "vector = np.array([1, 2, 3])\n",
    "print('Vector Array:\\n', vector)"
   ]
  },
  {
   "cell_type": "code",
   "execution_count": 36,
   "id": "8f4ce994-a3c4-484f-922f-32a70c301240",
   "metadata": {},
   "outputs": [
    {
     "name": "stdout",
     "output_type": "stream",
     "text": [
      "Matrix:\n",
      " [[1 2 3]\n",
      " [4 5 6]]\n"
     ]
    }
   ],
   "source": [
    "matrix = np.array([[1, 2, 3,], [4, 5, 6]])\n",
    "print('Matrix:\\n', matrix)"
   ]
  },
  {
   "cell_type": "code",
   "execution_count": 38,
   "id": "340dc3f9-de35-4e23-8883-4f841d524bca",
   "metadata": {},
   "outputs": [
    {
     "name": "stdout",
     "output_type": "stream",
     "text": [
      "Tensor:\n",
      " [[[1 2]\n",
      "  [3 4]]\n",
      "\n",
      " [[4 5]\n",
      "  [5 6]]]\n"
     ]
    }
   ],
   "source": [
    "tensor = np.array([[[1, 2], [3, 4]], [[4, 5], [5, 6]]])\n",
    "print('Tensor:\\n', tensor)"
   ]
  },
  {
   "cell_type": "markdown",
   "id": "405b0b61-06d0-4e18-a89c-3759c0a1e9d7",
   "metadata": {},
   "source": [
    "### Array Properties"
   ]
  },
  {
   "cell_type": "code",
   "execution_count": 41,
   "id": "01beae58-21c7-4f58-941b-ece49c59d110",
   "metadata": {},
   "outputs": [
    {
     "name": "stdout",
     "output_type": "stream",
     "text": [
      "Shape: (2, 3)\n",
      "dimension: 2\n",
      "Size: 6\n",
      "Datatype: int64\n"
     ]
    }
   ],
   "source": [
    "arr = np.array([[1, 2, 3], \n",
    "                [4, 5, 6]])\n",
    "print('Shape:', arr.shape)\n",
    "print('dimension:', arr.ndim)\n",
    "print('Size:', arr.size)\n",
    "print('Datatype:', arr.dtype)"
   ]
  },
  {
   "cell_type": "code",
   "execution_count": 42,
   "id": "d8dea85b-7b10-4a34-a32a-a45c4e4ce087",
   "metadata": {},
   "outputs": [
    {
     "name": "stdout",
     "output_type": "stream",
     "text": [
      "Shape: (2, 3)\n",
      "dimension: 2\n",
      "Size: 6\n",
      "Datatype: int64\n"
     ]
    }
   ],
   "source": [
    "arr = np.array([[1, 2, 3], \n",
    "                [4, 5, True]])\n",
    "print('Shape:', arr.shape)\n",
    "print('dimension:', arr.ndim)\n",
    "print('Size:', arr.size)\n",
    "print('Datatype:', arr.dtype)"
   ]
  },
  {
   "cell_type": "code",
   "execution_count": 44,
   "id": "2d96a744-8b82-4291-916c-b59aeed6305c",
   "metadata": {},
   "outputs": [
    {
     "name": "stdout",
     "output_type": "stream",
     "text": [
      "Shape: (2, 3)\n",
      "dimension: 2\n",
      "Size: 6\n",
      "Datatype: float64\n"
     ]
    }
   ],
   "source": [
    "arr = np.array([[1, 2, 3], \n",
    "                [4, 5, 8.6]])\n",
    "print('Shape:', arr.shape)\n",
    "print('dimension:', arr.ndim)\n",
    "print('Size:', arr.size)\n",
    "print('Datatype:', arr.dtype)"
   ]
  },
  {
   "cell_type": "markdown",
   "id": "4652ea18-8ef3-4f33-91d0-f137ccc9ed26",
   "metadata": {},
   "source": [
    "## Array Reshaping"
   ]
  },
  {
   "cell_type": "code",
   "execution_count": 46,
   "id": "795e9b93-c194-4635-9c3d-a8a97a8ae6dd",
   "metadata": {},
   "outputs": [
    {
     "name": "stdout",
     "output_type": "stream",
     "text": [
      "Original array: [ 0  1  2  3  4  5  6  7  8  9 10 11]\n"
     ]
    }
   ],
   "source": [
    "arr = np.arange(12)\n",
    "print('Original array:',arr)"
   ]
  },
  {
   "cell_type": "code",
   "execution_count": 49,
   "id": "0af67d38-e53e-4712-9539-f4ecbf544c5c",
   "metadata": {},
   "outputs": [
    {
     "name": "stdout",
     "output_type": "stream",
     "text": [
      "Reshaped: [[ 0  1  2  3]\n",
      " [ 4  5  6  7]\n",
      " [ 8  9 10 11]]\n"
     ]
    }
   ],
   "source": [
    "reshaped = arr.reshape(3, 4)\n",
    "print('Reshaped:',reshaped)"
   ]
  },
  {
   "cell_type": "code",
   "execution_count": 50,
   "id": "15e75a14-fdeb-4221-a1c2-8f17838a9b25",
   "metadata": {},
   "outputs": [
    {
     "name": "stdout",
     "output_type": "stream",
     "text": [
      "Flattend array: [ 0  1  2  3  4  5  6  7  8  9 10 11]\n"
     ]
    }
   ],
   "source": [
    "flatend = reshaped.flatten()\n",
    "print('Flattend array:', flatend)"
   ]
  },
  {
   "cell_type": "code",
   "execution_count": 52,
   "id": "50bb1aa2-6beb-4c12-be94-838aec56f272",
   "metadata": {},
   "outputs": [
    {
     "name": "stdout",
     "output_type": "stream",
     "text": [
      "\n",
      " Revaled array: [ 0  1  2  3  4  5  6  7  8  9 10 11]\n"
     ]
    }
   ],
   "source": [
    "raveled = reshaped.ravel()\n",
    "print('\\n Revaled array:', raveled)"
   ]
  },
  {
   "cell_type": "code",
   "execution_count": 54,
   "id": "c128522a-ce23-4aa6-8e30-f3e3a394541b",
   "metadata": {},
   "outputs": [
    {
     "name": "stdout",
     "output_type": "stream",
     "text": [
      "\n",
      " Transposed array [[ 0  4  8]\n",
      " [ 1  5  9]\n",
      " [ 2  6 10]\n",
      " [ 3  7 11]]\n"
     ]
    }
   ],
   "source": [
    "transpose = reshaped.T\n",
    "print('\\n Transposed array',transpose)"
   ]
  },
  {
   "cell_type": "markdown",
   "id": "f4e3cef7-6efc-41fc-bdf1-4459af85f9cb",
   "metadata": {},
   "source": [
    "## NUMPY ARRAY OPERATION"
   ]
  },
  {
   "cell_type": "code",
   "execution_count": 56,
   "id": "20cf38e4-816b-45ea-8bb1-b34f17b03d47",
   "metadata": {},
   "outputs": [
    {
     "name": "stdout",
     "output_type": "stream",
     "text": [
      "Basic Slicing: [3 4 5 6 7]\n"
     ]
    }
   ],
   "source": [
    "arr = np.array([1, 2, 3, 4, 5, 6, 7, 8, 9, 10])\n",
    "print('Basic Slicing:', arr[2: 7])"
   ]
  },
  {
   "cell_type": "code",
   "execution_count": 59,
   "id": "affb491d-5136-45d4-b3f6-82d1e3c97e89",
   "metadata": {},
   "outputs": [
    {
     "name": "stdout",
     "output_type": "stream",
     "text": [
      "With step: [2 4 6 8]\n",
      "Negative indexing: 8\n"
     ]
    }
   ],
   "source": [
    "print('With step:', arr[1: 9: 2])\n",
    "print('Negative indexing:',arr[-3])"
   ]
  },
  {
   "cell_type": "code",
   "execution_count": 60,
   "id": "985f6d1b-5c3c-450a-a97f-d90f084f0e76",
   "metadata": {},
   "outputs": [
    {
     "name": "stdout",
     "output_type": "stream",
     "text": [
      "Specific Element 6\n",
      "Entire Row: [4 5 6]\n",
      "Entire Row [2 5 8]\n"
     ]
    }
   ],
   "source": [
    "arr_2d = np.array([[1, 2, 3],\n",
    "                   [4, 5, 6], \n",
    "                   [7, 8, 9]])\n",
    "print('Specific Element',arr_2d[1, 2])\n",
    "print('Entire Row:',arr_2d[1])\n",
    "print('Entire Row', arr_2d[:, 1])"
   ]
  },
  {
   "cell_type": "markdown",
   "id": "688143c7-a712-45d3-a3ee-2ed439852530",
   "metadata": {},
   "source": [
    "## SORTING"
   ]
  },
  {
   "cell_type": "code",
   "execution_count": 63,
   "id": "572c76af-9a69-4c57-bec5-578f86693977",
   "metadata": {},
   "outputs": [
    {
     "name": "stdout",
     "output_type": "stream",
     "text": [
      "Sorted array: [1 1 2 3 4 5 6 9]\n"
     ]
    }
   ],
   "source": [
    "unsorted = np.array([3, 1, 4, 1, 5, 9, 2, 6])\n",
    "print('Sorted array:', np.sort(unsorted))"
   ]
  },
  {
   "cell_type": "code",
   "execution_count": 65,
   "id": "1108bcaa-cc9a-4471-b0db-b5203592bfc9",
   "metadata": {},
   "outputs": [
    {
     "name": "stdout",
     "output_type": "stream",
     "text": [
      "Sorted 2D array by column: [[1 1]\n",
      " [2 2]\n",
      " [3 3]]\n"
     ]
    }
   ],
   "source": [
    "arr_2d_unsorted = np.array([[3, 1], [1, 2], [2, 3]])\n",
    "print('Sorted 2D array by column:',np.sort(arr_2d_unsorted, axis = 0))"
   ]
  },
  {
   "cell_type": "code",
   "execution_count": 67,
   "id": "46c3be9c-1c46-4462-bddd-a1c377829542",
   "metadata": {},
   "outputs": [
    {
     "name": "stdout",
     "output_type": "stream",
     "text": [
      "Sorted 2D array by row: [[1 3]\n",
      " [1 2]\n",
      " [2 3]]\n"
     ]
    }
   ],
   "source": [
    "arr_2d_unsorted = np.array([[3, 1], [1, 2], [2, 3]])\n",
    "print('Sorted 2D array by row:',np.sort(arr_2d_unsorted, axis = 1))"
   ]
  },
  {
   "cell_type": "markdown",
   "id": "35800b31-5c0b-4ef1-a4f9-9dd4f9b68af9",
   "metadata": {},
   "source": [
    "## Filtering"
   ]
  },
  {
   "cell_type": "markdown",
   "id": "45d84b37-543a-4acf-97fd-17ed3fc1db74",
   "metadata": {},
   "source": [
    "#### Filtering"
   ]
  },
  {
   "cell_type": "markdown",
   "id": "13714d42-7ebf-42b4-b968-7ca408311e67",
   "metadata": {},
   "source": [
    "# Filtering"
   ]
  },
  {
   "cell_type": "code",
   "execution_count": 72,
   "id": "2ec73d66-bd55-407f-825c-994ef8af4d63",
   "metadata": {},
   "outputs": [
    {
     "name": "stdout",
     "output_type": "stream",
     "text": [
      "Even Number: [2 4 6 8]\n"
     ]
    }
   ],
   "source": [
    "numbers = np.array([1, 2, 3, 4, 5, 6, 7, 8, 9])\n",
    "even_number = numbers[numbers % 2 == 0]\n",
    "print('Even Number:', even_number)"
   ]
  },
  {
   "cell_type": "markdown",
   "id": "5a1c6953-672e-4cc9-98d6-e6d60dc13439",
   "metadata": {},
   "source": [
    "# Filter with mask"
   ]
  },
  {
   "cell_type": "code",
   "execution_count": 75,
   "id": "ebf2c2fe-c29d-4076-8450-23ce18725afd",
   "metadata": {},
   "outputs": [
    {
     "name": "stdout",
     "output_type": "stream",
     "text": [
      "Numbers greater than 5: [6 7 8 9]\n"
     ]
    }
   ],
   "source": [
    "mask = numbers > 5\n",
    "print('Numbers greater than 5:',numbers[mask])"
   ]
  },
  {
   "cell_type": "markdown",
   "id": "c8ed0f2d-46b4-4a38-8915-fa9f0098d177",
   "metadata": {},
   "source": [
    "# Fancy Indexing VS np.where()"
   ]
  },
  {
   "cell_type": "code",
   "execution_count": 78,
   "id": "1cc1032d-2d3e-423c-9bee-2bb6eed08295",
   "metadata": {},
   "outputs": [
    {
     "name": "stdout",
     "output_type": "stream",
     "text": [
      "[1 3 5]\n"
     ]
    }
   ],
   "source": [
    "indices = [0, 2, 4]\n",
    "print(numbers[indices])"
   ]
  },
  {
   "cell_type": "code",
   "execution_count": 79,
   "id": "4cffd95e-63f1-4060-bf93-566552504476",
   "metadata": {},
   "outputs": [
    {
     "name": "stdout",
     "output_type": "stream",
     "text": [
      "[1 3 5]\n",
      "NP where [6 7 8 9]\n"
     ]
    }
   ],
   "source": [
    "indices = [0, 2, 4]\n",
    "print(numbers[indices])\n",
    "where_result = np.where(numbers > 5)\n",
    "print('NP where', numbers[where_result])"
   ]
  },
  {
   "cell_type": "code",
   "execution_count": 81,
   "id": "8a460515-649c-4ae8-a8a9-c656a59c04bc",
   "metadata": {},
   "outputs": [
    {
     "data": {
      "text/plain": [
       "(array([5, 6, 7, 8]),)"
      ]
     },
     "execution_count": 81,
     "metadata": {},
     "output_type": "execute_result"
    }
   ],
   "source": [
    "condition_array = np.where(numbers > 5)\n",
    "condition_array "
   ]
  },
  {
   "cell_type": "code",
   "execution_count": 83,
   "id": "077917c8-7e1f-420c-be80-ca239f7f12ca",
   "metadata": {},
   "outputs": [
    {
     "name": "stdout",
     "output_type": "stream",
     "text": [
      "(array([5, 6, 7, 8]),)\n"
     ]
    }
   ],
   "source": [
    "print(condition_array)"
   ]
  },
  {
   "cell_type": "code",
   "execution_count": 84,
   "id": "4a9b2238-3a2b-4a2c-96be-e73d87f3a248",
   "metadata": {},
   "outputs": [
    {
     "ename": "ValueError",
     "evalue": "either both or neither of x and y should be given",
     "output_type": "error",
     "traceback": [
      "\u001b[31m---------------------------------------------------------------------------\u001b[39m",
      "\u001b[31mValueError\u001b[39m                                Traceback (most recent call last)",
      "\u001b[36mCell\u001b[39m\u001b[36m \u001b[39m\u001b[32mIn[84]\u001b[39m\u001b[32m, line 1\u001b[39m\n\u001b[32m----> \u001b[39m\u001b[32m1\u001b[39m condition_array = \u001b[43mnp\u001b[49m\u001b[43m.\u001b[49m\u001b[43mwhere\u001b[49m\u001b[43m(\u001b[49m\u001b[43mnumbers\u001b[49m\u001b[43m \u001b[49m\u001b[43m>\u001b[49m\u001b[43m \u001b[49m\u001b[32;43m5\u001b[39;49m\u001b[43m,\u001b[49m\u001b[43m \u001b[49m\u001b[43mnumbers\u001b[49m\u001b[43m)\u001b[49m\n\u001b[32m      2\u001b[39m \u001b[38;5;28mprint\u001b[39m(condition_array) \n",
      "\u001b[31mValueError\u001b[39m: either both or neither of x and y should be given"
     ]
    }
   ],
   "source": [
    "condition_array = np.where(numbers > 5, numbers)\n",
    "print(condition_array) "
   ]
  },
  {
   "cell_type": "code",
   "execution_count": 87,
   "id": "8d44d65e-4d43-45d2-999c-fdfe41995877",
   "metadata": {},
   "outputs": [
    {
     "name": "stdout",
     "output_type": "stream",
     "text": [
      "[1 2 3 4 5 6 7 8 9]\n"
     ]
    }
   ],
   "source": [
    "condition_array = np.where(numbers > 5, numbers * 1, numbers)\n",
    "print(condition_array)"
   ]
  },
  {
   "cell_type": "code",
   "execution_count": 89,
   "id": "635184af-6f6f-421d-98a3-fa1d712e0eb2",
   "metadata": {},
   "outputs": [
    {
     "name": "stdout",
     "output_type": "stream",
     "text": [
      "[ 1  2  3  4  5 24 28 32 36]\n"
     ]
    }
   ],
   "source": [
    "condition_array = np.where(numbers > 5, numbers * 4, numbers)\n",
    "print(condition_array)"
   ]
  },
  {
   "cell_type": "code",
   "execution_count": 91,
   "id": "c138a246-5cda-4ddd-85c3-6c9adebbd0e8",
   "metadata": {},
   "outputs": [
    {
     "name": "stdout",
     "output_type": "stream",
     "text": [
      "['false' 'false' 'false' 'false' 'false' 'true' 'true' 'true' 'true']\n"
     ]
    }
   ],
   "source": [
    "condition_array = np.where(numbers > 5, 'true', 'false')\n",
    "print(condition_array)"
   ]
  },
  {
   "cell_type": "markdown",
   "id": "7401ab4d-bbbe-48c2-bcc6-d2a6184af261",
   "metadata": {},
   "source": [
    "# ADDING & REMOVING DATA"
   ]
  },
  {
   "cell_type": "code",
   "execution_count": 94,
   "id": "b9343487-954f-49d3-8d5a-0628462a3281",
   "metadata": {},
   "outputs": [
    {
     "name": "stdout",
     "output_type": "stream",
     "text": [
      "[1 2 3]\n"
     ]
    }
   ],
   "source": [
    "arr1 = np.array([1, 2, 3])\n",
    "print(arr1)"
   ]
  },
  {
   "cell_type": "code",
   "execution_count": 96,
   "id": "ab85d9f7-c101-4923-b7b1-0587dbc1babe",
   "metadata": {},
   "outputs": [
    {
     "name": "stdout",
     "output_type": "stream",
     "text": [
      "[4 5 6]\n"
     ]
    }
   ],
   "source": [
    "arr2 = np.array([4, 5, 6])\n",
    "print(arr2)"
   ]
  },
  {
   "cell_type": "code",
   "execution_count": 102,
   "id": "24dc5b7b-493a-41f3-8717-f6fc6bf3434e",
   "metadata": {},
   "outputs": [
    {
     "name": "stdout",
     "output_type": "stream",
     "text": [
      "[5 7 9]\n"
     ]
    }
   ],
   "source": [
    "combined = arr1 + arr2\n",
    "print(combined)"
   ]
  },
  {
   "cell_type": "code",
   "execution_count": 104,
   "id": "69157285-6bdf-43c4-bc6d-e4e72471dd9a",
   "metadata": {},
   "outputs": [
    {
     "name": "stdout",
     "output_type": "stream",
     "text": [
      "[1 2 3 4 5 6]\n"
     ]
    }
   ],
   "source": [
    "combined = np.concatenate((arr1, arr2))\n",
    "print(combined)"
   ]
  },
  {
   "cell_type": "markdown",
   "id": "8975f6fc-c291-48a3-882d-7e0b49eb7491",
   "metadata": {},
   "source": [
    "## Array Competibility"
   ]
  },
  {
   "cell_type": "code",
   "execution_count": 116,
   "id": "2f931712-eddc-47de-a57b-d5f706f6b4bc",
   "metadata": {},
   "outputs": [
    {
     "name": "stdout",
     "output_type": "stream",
     "text": [
      "Compatebility Shape True\n"
     ]
    }
   ],
   "source": [
    "a = np.array([1, 2, 3])\n",
    "b = np.array([4, 5, 6])\n",
    "c = np.array([7, 8, 9, 10])\n",
    "print('Compatebility Shape', a.shape == b.shape)"
   ]
  },
  {
   "cell_type": "code",
   "execution_count": 118,
   "id": "41d31180-1dba-49f8-96a1-ad4cda86b571",
   "metadata": {},
   "outputs": [
    {
     "name": "stdout",
     "output_type": "stream",
     "text": [
      "Compatebility Shape False\n"
     ]
    }
   ],
   "source": [
    "print('Compatebility Shape', a.shape == c.shape)"
   ]
  },
  {
   "cell_type": "code",
   "execution_count": 122,
   "id": "5fa8c680-4b94-455d-af31-799fe2df9dba",
   "metadata": {},
   "outputs": [
    {
     "name": "stdout",
     "output_type": "stream",
     "text": [
      "[[1 2]\n",
      " [3 4]]\n",
      "[[1 2]\n",
      " [3 4]\n",
      " [5 6]]\n"
     ]
    }
   ],
   "source": [
    "original = np.array([[1, 2], [3, 4]])\n",
    "new_row = np.array([[5, 6]])\n",
    "with_new_row = np.vstack((original, new_row))\n",
    "print(original)\n",
    "print(with_new_row)"
   ]
  },
  {
   "cell_type": "code",
   "execution_count": 130,
   "id": "fc38144c-c8a3-4045-a605-6c0ca6815b5e",
   "metadata": {},
   "outputs": [
    {
     "name": "stdout",
     "output_type": "stream",
     "text": [
      "[[1 2]\n",
      " [3 4]]\n",
      "[[1 2]\n",
      " [3 4]\n",
      " [5 6]]\n",
      "\n",
      " [[1 2 7]\n",
      " [3 4 8]]\n"
     ]
    }
   ],
   "source": [
    "original = np.array([[1, 2], [3, 4]])\n",
    "new_row = np.array([[5, 6]])\n",
    "with_new_row = np.vstack((original, new_row))\n",
    "print(original)\n",
    "print(with_new_row)\n",
    "new_col = np.array([[7], [8]])\n",
    "with_new_col = np.hstack((original, new_col))\n",
    "print('\\n',with_new_col)"
   ]
  },
  {
   "cell_type": "code",
   "execution_count": 132,
   "id": "84ca7668-d13b-4f09-baa2-d66196273e6e",
   "metadata": {},
   "outputs": [
    {
     "name": "stdout",
     "output_type": "stream",
     "text": [
      "[1 2 4 5 6]\n"
     ]
    }
   ],
   "source": [
    "arr = np.array([1, 2, 3, 4, 5, 6])\n",
    "deleted = np.delete(arr, 2)\n",
    "print(deleted)"
   ]
  },
  {
   "cell_type": "code",
   "execution_count": 134,
   "id": "f65dad0b-d976-4c8d-8ddf-a73b1bd174ea",
   "metadata": {},
   "outputs": [
    {
     "name": "stdout",
     "output_type": "stream",
     "text": [
      "Array after deletion [1 2 4 5 6]\n"
     ]
    }
   ],
   "source": [
    "print('Array after deletion', deleted)"
   ]
  },
  {
   "cell_type": "markdown",
   "id": "0541e86f-c42d-4726-9c82-552697cd6b78",
   "metadata": {},
   "source": [
    "# Advance Example With Business Example"
   ]
  },
  {
   "cell_type": "code",
   "execution_count": 143,
   "id": "f713f50f-dcfa-4e98-bff7-6a73ee4f196b",
   "metadata": {},
   "outputs": [
    {
     "name": "stderr",
     "output_type": "stream",
     "text": [
      "Matplotlib is building the font cache; this may take a moment.\n"
     ]
    }
   ],
   "source": [
    "import matplotlib.pyplot as plt\n",
    "# data structure:  [restaurant_id, 2021, 2022, 2023, 2024]\n",
    "sales_data = np.array([\n",
    "    [1, 150000, 180000, 220000, 250000], # Paradise Biryani\n",
    "    [2, 120000, 140000, 160000, 190000], # Beijing Bites\n",
    "    [3, 200000, 230000, 260000, 300000], # Pizza hub\n",
    "    [4, 180000, 210000, 240000, 270000], # Burger Point\n",
    "    [5, 160000, 185000, 205000, 230000], # Chai Point\n",
    "])"
   ]
  },
  {
   "cell_type": "code",
   "execution_count": 146,
   "id": "fd1b02ab-eed6-41aa-afac-76216c834281",
   "metadata": {},
   "outputs": [
    {
     "name": "stdout",
     "output_type": "stream",
     "text": [
      "=== Zomoato sales analysis ===\n"
     ]
    }
   ],
   "source": [
    "print('=== Zomoato sales analysis ===') "
   ]
  },
  {
   "cell_type": "code",
   "execution_count": 148,
   "id": "d5e25f8c-8fef-426a-af8e-6957b93c0aa1",
   "metadata": {},
   "outputs": [
    {
     "name": "stdout",
     "output_type": "stream",
     "text": [
      "\n",
      " sales data shapes (5, 5)\n"
     ]
    }
   ],
   "source": [
    "print('\\n sales data shapes', sales_data.shape)"
   ]
  },
  {
   "cell_type": "code",
   "execution_count": 150,
   "id": "17bb9494-eff5-460a-93a5-731c7fe51621",
   "metadata": {},
   "outputs": [
    {
     "name": "stdout",
     "output_type": "stream",
     "text": [
      "Sample data for 1st 3 restorant [     4 180000 210000 240000 270000]\n"
     ]
    }
   ],
   "source": [
    "print('Sample data for 1st 3 restorant', sales_data[3])"
   ]
  },
  {
   "cell_type": "code",
   "execution_count": 154,
   "id": "307db0ae-cd10-466d-95d4-4945845755bf",
   "metadata": {},
   "outputs": [
    {
     "name": "stdout",
     "output_type": "stream",
     "text": [
      "Sample data for 1st 3 restorent [[     1 150000 180000 220000 250000]\n",
      " [     2 120000 140000 160000 190000]\n",
      " [     3 200000 230000 260000 300000]\n",
      " [     4 180000 210000 240000 270000]]\n"
     ]
    }
   ],
   "source": [
    "print('Sample data for 1st 3 restorent', sales_data[0: 4])"
   ]
  },
  {
   "cell_type": "code",
   "execution_count": 156,
   "id": "b3208dc6-b3b9-4890-b76b-e34241c42330",
   "metadata": {},
   "outputs": [
    {
     "name": "stdout",
     "output_type": "stream",
     "text": [
      "Sample data for 1st 3 restorent [[     1 150000 180000 220000 250000]\n",
      " [     4 180000 210000 240000 270000]]\n"
     ]
    }
   ],
   "source": [
    "print('Sample data for 1st 3 restorent', sales_data[0: : 3])"
   ]
  },
  {
   "cell_type": "code",
   "execution_count": 158,
   "id": "a10cb834-f7fa-4b55-8f0d-a7ab4c3bfb73",
   "metadata": {},
   "outputs": [
    {
     "name": "stdout",
     "output_type": "stream",
     "text": [
      "Sample data for 1st 3 restorent [[150000 180000 220000 250000]\n",
      " [120000 140000 160000 190000]\n",
      " [200000 230000 260000 300000]\n",
      " [180000 210000 240000 270000]\n",
      " [160000 185000 205000 230000]]\n"
     ]
    }
   ],
   "source": [
    "print('Sample data for 1st 3 restorent', sales_data[: , 1:])"
   ]
  },
  {
   "cell_type": "code",
   "execution_count": 164,
   "id": "de178bf5-07b8-4ebb-99c2-453ca986ed4e",
   "metadata": {},
   "outputs": [
    {
     "name": "stdout",
     "output_type": "stream",
     "text": [
      "[     15  810000  945000 1085000 1240000]\n"
     ]
    }
   ],
   "source": [
    "# Total sales per year\n",
    "print(np.sum(sales_data, axis = 0))"
   ]
  },
  {
   "cell_type": "code",
   "execution_count": 168,
   "id": "9136dcd7-a82b-41c7-b8e2-1e05937ea8e4",
   "metadata": {},
   "outputs": [
    {
     "name": "stdout",
     "output_type": "stream",
     "text": [
      "[ 810000  945000 1085000 1240000]\n"
     ]
    }
   ],
   "source": [
    "yeary_total = np.sum(sales_data[: , 1:], axis = 0)\n",
    "print(yeary_total)"
   ]
  },
  {
   "cell_type": "code",
   "execution_count": 170,
   "id": "b7a0a1d2-8e98-48be-bd21-9bb1dfb41990",
   "metadata": {},
   "outputs": [
    {
     "name": "stdout",
     "output_type": "stream",
     "text": [
      "[800000 610000 990000 900000 780000]\n"
     ]
    }
   ],
   "source": [
    "yeary_total = np.sum(sales_data[: , 1:], axis = 1)\n",
    "print(yeary_total)"
   ]
  },
  {
   "cell_type": "code",
   "execution_count": 174,
   "id": "63701be0-4fbf-447d-a2c7-64b3f2c32482",
   "metadata": {},
   "outputs": [],
   "source": [
    "Exact_Total = np.sum(np.sum(sales_data[: , 1:], axis = 1))"
   ]
  },
  {
   "cell_type": "code",
   "execution_count": 176,
   "id": "6d5852fd-1226-4d3d-b6e1-1baa80039943",
   "metadata": {},
   "outputs": [
    {
     "name": "stdout",
     "output_type": "stream",
     "text": [
      "4080000\n"
     ]
    }
   ],
   "source": [
    "print(Exact_Total)"
   ]
  },
  {
   "cell_type": "code",
   "execution_count": 178,
   "id": "2db72598-e653-49a2-92de-78ece2630833",
   "metadata": {},
   "outputs": [
    {
     "name": "stdout",
     "output_type": "stream",
     "text": [
      "[150000 120000 200000 180000 160000]\n"
     ]
    }
   ],
   "source": [
    "min_sales = np.min(sales_data[: , 1:], axis = 1)\n",
    "print(min_sales)"
   ]
  },
  {
   "cell_type": "code",
   "execution_count": 182,
   "id": "3536eea6-62dc-4a2e-b3e4-9e0b652c9e5a",
   "metadata": {},
   "outputs": [
    {
     "name": "stdout",
     "output_type": "stream",
     "text": [
      "[250000 190000 300000 270000 230000]\n"
     ]
    }
   ],
   "source": [
    "max_sales = np.max(sales_data[: , 1:], axis = 1)\n",
    "print(max_sales)"
   ]
  },
  {
   "cell_type": "code",
   "execution_count": 184,
   "id": "b23c4898-fc88-449d-b74c-ee3733199960",
   "metadata": {},
   "outputs": [
    {
     "name": "stdout",
     "output_type": "stream",
     "text": [
      "[250000 190000 300000 270000 230000]\n"
     ]
    }
   ],
   "source": [
    "max_sales = np.max(sales_data[: , 1:], axis = 1)\n",
    "print(max_sales)"
   ]
  },
  {
   "cell_type": "code",
   "execution_count": 186,
   "id": "1f619fee-f6cc-4d40-9f68-c280b076465d",
   "metadata": {},
   "outputs": [
    {
     "name": "stdout",
     "output_type": "stream",
     "text": [
      "Average Sales: [200000. 152500. 247500. 225000. 195000.]\n"
     ]
    }
   ],
   "source": [
    "avg_sales = np.mean(sales_data[:, 1:], axis = 1)\n",
    "print('Average Sales:', avg_sales)"
   ]
  },
  {
   "cell_type": "code",
   "execution_count": 188,
   "id": "b04886d3-2efe-4f4c-9427-72b0ca5fb407",
   "metadata": {},
   "outputs": [
    {
     "name": "stdout",
     "output_type": "stream",
     "text": [
      "Cumilative Sales: [ 150000  330000  550000  800000  920000 1060000 1220000 1410000 1610000\n",
      " 1840000 2100000 2400000 2580000 2790000 3030000 3300000 3460000 3645000\n",
      " 3850000 4080000]\n"
     ]
    }
   ],
   "source": [
    "cum_sales = np.cumsum(sales_data[:, 1:])\n",
    "print('Cumilative Sales:', cum_sales)"
   ]
  },
  {
   "cell_type": "code",
   "execution_count": 198,
   "id": "c7fbe751-23a6-4d5c-aec0-f86ea16b4541",
   "metadata": {},
   "outputs": [
    {
     "data": {
      "image/png": "[encoded data removed]",
      "text/plain": [
       "<Figure size 1000x600 with 1 Axes>"
      ]
     },
     "metadata": {},
     "output_type": "display_data"
    }
   ],
   "source": [
    "plt.figure(figsize = (10, 6))\n",
    "plt.plot(np.mean(cum_sales, axis = 0))\n",
    "plt.title('Average Cumulative sales across all restaurant')\n",
    "plt.xlabel('Year')\n",
    "plt.ylabel('Sales')\n",
    "plt.grid(True)\n",
    "plt.show()"
   ]
  },
  {
   "cell_type": "code",
   "execution_count": 200,
   "id": "15b39dfb-50d4-4315-9e88-182f0fb0e915",
   "metadata": {},
   "outputs": [
    {
     "data": {
      "image/png": "[encoded data removed]",
      "text/plain": [
       "<Figure size 1000x600 with 1 Axes>"
      ]
     },
     "metadata": {},
     "output_type": "display_data"
    }
   ],
   "source": [
    "import numpy as np\n",
    "import matplotlib.pyplot as plt\n",
    "cum_sales = np.cumsum(np.random.rand(50, 10), axis=1)\n",
    "plt.figure(figsize=(10, 6))\n",
    "plt.plot(np.mean(cum_sales, axis=0), marker='o')\n",
    "plt.title('Average Cumulative Sales Across All Restaurants')\n",
    "plt.xlabel('Year')\n",
    "plt.ylabel('Sales')\n",
    "plt.grid(True)\n",
    "plt.show()"
   ]
  },
  {
   "cell_type": "code",
   "execution_count": 202,
   "id": "cc44b40a-9bb5-4123-be25-1fa1f587379d",
   "metadata": {},
   "outputs": [
    {
     "name": "stdout",
     "output_type": "stream",
     "text": [
      "Vector Addition [ 7  9 11 13 15]\n"
     ]
    }
   ],
   "source": [
    "vect1 = np.array([1, 2, 3, 4, 5])\n",
    "vect2 = np.array([6, 7, 8, 9, 10])\n",
    "print('Vector Addition', vect1 + vect2)"
   ]
  },
  {
   "cell_type": "code",
   "execution_count": 204,
   "id": "38129f20-d8c0-4e7f-a544-f063932fab76",
   "metadata": {},
   "outputs": [
    {
     "name": "stdout",
     "output_type": "stream",
     "text": [
      "Vector Multiplication: [ 6 14 24 36 50]\n"
     ]
    }
   ],
   "source": [
    "print('Vector Multiplication:', vect1 * vect2)"
   ]
  },
  {
   "cell_type": "code",
   "execution_count": 206,
   "id": "1311e75f-dd59-4fe3-a008-5bf2a6027d1b",
   "metadata": {},
   "outputs": [
    {
     "name": "stdout",
     "output_type": "stream",
     "text": [
      "Dot Product: 130\n"
     ]
    }
   ],
   "source": [
    "print('Dot Product:', np.dot(vect1, vect2))"
   ]
  },
  {
   "cell_type": "code",
   "execution_count": 216,
   "id": "4ef85270-1bae-4a04-930d-390b0ddf2064",
   "metadata": {},
   "outputs": [
    {
     "name": "stdout",
     "output_type": "stream",
     "text": [
      "Angle between Vector: 0.26554161733900966\n"
     ]
    }
   ],
   "source": [
    "angle = np.arccos(np.dot(vect1, vect2) / (np.linalg.norm(vect1) * np.linalg.norm(vect2)))\n",
    "print('Angle between Vector:', angle)"
   ]
  },
  {
   "cell_type": "code",
   "execution_count": 218,
   "id": "ae400be7-45ce-43d0-882b-574300947a3a",
   "metadata": {},
   "outputs": [
    {
     "name": "stdout",
     "output_type": "stream",
     "text": [
      "['Biryani' 'Chinese' 'Pizza' 'Burger' 'Cafe']\n"
     ]
    }
   ],
   "source": [
    "restorant_type = np.array(['Biryani', 'Chinese', 'Pizza', 'Burger', 'Cafe'])\n",
    "print(restorant_type)"
   ]
  },
  {
   "cell_type": "code",
   "execution_count": 222,
   "id": "73b06996-7137-4fa7-a0c1-43eee4abbfe0",
   "metadata": {},
   "outputs": [
    {
     "name": "stdout",
     "output_type": "stream",
     "text": [
      "['BIRYANI' 'CHINESE' 'PIZZA' 'BURGER' 'CAFE']\n"
     ]
    }
   ],
   "source": [
    "vectorised_upper = np.vectorize(str.upper)\n",
    "print(vectorised_upper(restorant_type))"
   ]
  },
  {
   "cell_type": "code",
   "execution_count": 232,
   "id": "e32ea4dd-36bf-471e-bb87-f995d1bc9867",
   "metadata": {},
   "outputs": [
    {
     "name": "stdout",
     "output_type": "stream",
     "text": [
      "Monthly Sales: [[12500.         15000.         18333.33333333 20833.33333333]\n",
      " [10000.         11666.66666667 13333.33333333 15833.33333333]\n",
      " [16666.66666667 19166.66666667 21666.66666667 25000.        ]\n",
      " [15000.         17500.         20000.         22500.        ]\n",
      " [13333.33333333 15416.66666667 17083.33333333 19166.66666667]]\n"
     ]
    }
   ],
   "source": [
    "monthly_avg = sales_data[:, 1:] / 12\n",
    "print('Monthly Sales:', monthly_avg)"
   ]
  },
  {
   "cell_type": "code",
   "execution_count": 234,
   "id": "8562463b-ce0b-4889-b6ab-ae5223a95921",
   "metadata": {},
   "outputs": [],
   "source": [
    "arr1 = np.array([[1, 2, 3], [4, 5, 6]])\n",
    "arr2 = np.random.rand(3, 3)\n",
    "arr3 = np.zeros((4, 4))"
   ]
  },
  {
   "cell_type": "code",
   "execution_count": 236,
   "id": "5b44a940-a8d3-48ef-920a-9f36d2c7f6da",
   "metadata": {},
   "outputs": [],
   "source": [
    "np.save('array1', arr1)\n",
    "np.save('array2', arr2)\n",
    "np.save('array3', arr3)"
   ]
  },
  {
   "cell_type": "code",
   "execution_count": 239,
   "id": "7e0f9941-1261-461c-8eb1-f0af8050448c",
   "metadata": {},
   "outputs": [],
   "source": [
    "loaded_array = np.load('array1.npy')"
   ]
  },
  {
   "cell_type": "code",
   "execution_count": 241,
   "id": "e2df788a-43d9-408f-b9c4-41f2391d8059",
   "metadata": {},
   "outputs": [
    {
     "name": "stdout",
     "output_type": "stream",
     "text": [
      "[[1 2 3]\n",
      " [4 5 6]]\n"
     ]
    }
   ],
   "source": [
    "print(loaded_array)"
   ]
  },
  {
   "cell_type": "code",
   "execution_count": 247,
   "id": "28d66d3a-3280-428e-8e04-e83ceca9cd55",
   "metadata": {
    "scrolled": true
   },
   "outputs": [
    {
     "name": "stdout",
     "output_type": "stream",
     "text": [
      "Numpy logo file not Found\n"
     ]
    }
   ],
   "source": [
    "import numpy as np\n",
    "import matplotlib.pyplot as plt\n",
    "try:\n",
    "    logo = np.load('numpy-logo.npy')\n",
    "    plt.figure(figsize=(10, 5))\n",
    "    plt.subplot(121)\n",
    "    plt.imshow(logo)\n",
    "    plt.title('Numpy logo')\n",
    "    plt.grid('off')\n",
    "except FileNotFoundError:\n",
    "    print('Numpy logo file not Found')"
   ]
  },
  {
   "cell_type": "code",
   "execution_count": 249,
   "id": "8be224e0-363d-48d6-be71-7f618d79a152",
   "metadata": {},
   "outputs": [
    {
     "data": {
      "image/png": "[encoded data removed]",
      "text/plain": [
       "<Figure size 1000x500 with 1 Axes>"
      ]
     },
     "metadata": {},
     "output_type": "display_data"
    }
   ],
   "source": [
    "import numpy as np\n",
    "import matplotlib.pyplot as plt\n",
    "logo = np.random.rand(100, 100, 3)  # Random RGB image\n",
    "plt.figure(figsize=(10, 5))\n",
    "plt.subplot(121)\n",
    "plt.imshow(logo)\n",
    "plt.title('Dummy Logo')\n",
    "plt.grid(False)\n",
    "plt.show()"
   ]
  },
  {
   "cell_type": "code",
   "execution_count": 251,
   "id": "5611ab6a-1a1c-4337-beb9-35e967f8cd10",
   "metadata": {},
   "outputs": [
    {
     "data": {
      "image/png": "[encoded data removed]",
      "text/plain": [
       "<Figure size 1000x500 with 1 Axes>"
      ]
     },
     "metadata": {},
     "output_type": "display_data"
    }
   ],
   "source": [
    "import numpy as np\n",
    "import matplotlib.pyplot as plt\n",
    "logo = np.random.rand(100, 100, 3)  # Random RGB image\n",
    "plt.figure(figsize=(10, 5))\n",
    "plt.subplot(121)\n",
    "plt.imshow(logo)\n",
    "plt.title('Numpy Logo')\n",
    "plt.grid(False)\n",
    "plt.show()"
   ]
  },
  {
   "cell_type": "code",
   "execution_count": 259,
   "id": "bb075424-adff-440d-8f83-c7a826c8823a",
   "metadata": {},
   "outputs": [
    {
     "name": "stdout",
     "output_type": "stream",
     "text": [
      "Numpy logo file not Found\n"
     ]
    }
   ],
   "source": [
    "try:\n",
    "    logo = np.load('numpy-logo.npy')\n",
    "    plt.figure(figsize = (10, 5))\n",
    "    plt.subplot(121)\n",
    "    plt.imshow(logo)\n",
    "    plt.title('Numpy logo')\n",
    "    plt.grid(False)\n",
    "    dark = 1 - logo\n",
    "    plt.subplot(122)\n",
    "except FileNotFoundError:\n",
    "    print('Numpy logo file not Found')"
   ]
  },
  {
   "cell_type": "code",
   "execution_count": 261,
   "id": "a3ee2ac3-8e73-42bf-b29b-cb53d200ec12",
   "metadata": {},
   "outputs": [
    {
     "data": {
      "image/png": "[encoded data removed]",
      "text/plain": [
       "<Figure size 1000x500 with 1 Axes>"
      ]
     },
     "metadata": {},
     "output_type": "display_data"
    }
   ],
   "source": [
    "import numpy as np\n",
    "import matplotlib.pyplot as plt\n",
    "\n",
    "# Create a dummy colorful array (simulating a logo)\n",
    "logo = np.zeros((100, 100, 3))\n",
    "\n",
    "# Fill in different colors like a pattern\n",
    "logo[10:90, 10:30, 0] = 1.0  # Red bar\n",
    "logo[10:90, 35:55, 1] = 1.0  # Green bar\n",
    "logo[10:90, 60:80, 2] = 1.0  # Blue bar\n",
    "\n",
    "plt.figure(figsize=(10, 5))\n",
    "plt.subplot(121)\n",
    "plt.imshow(logo)\n",
    "plt.title('Dummy NumPy-Like Logo')\n",
    "plt.grid(False)\n",
    "plt.axis('off')\n",
    "plt.show()"
   ]
  },
  {
   "cell_type": "code",
   "execution_count": 263,
   "id": "042056c4-9c83-4b91-8de5-2493c0914bf9",
   "metadata": {},
   "outputs": [
    {
     "name": "stdout",
     "output_type": "stream",
     "text": [
      "numpy logo file not found\n"
     ]
    }
   ],
   "source": [
    "import numpy as np\n",
    "import matplotlib.pyplot as plt\n",
    "\n",
    "try:\n",
    "    logo = np.load('numpy-logo.npy')  # Same file name as shown in video\n",
    "\n",
    "    plt.figure(figsize=(10, 5))\n",
    "\n",
    "    # Left: Original Logo\n",
    "    plt.subplot(121)\n",
    "    plt.imshow(logo)\n",
    "    plt.title(\"Numpy logo\")\n",
    "    plt.grid(False)\n",
    "    plt.axis('off')\n",
    "\n",
    "    # Right: Dark Logo\n",
    "    dark_logo = 1 - logo\n",
    "    plt.subplot(122)\n",
    "    plt.imshow(dark_logo)\n",
    "    plt.title(\"Numpy Dark logo\")\n",
    "    plt.grid(False)\n",
    "    plt.axis('off')\n",
    "\n",
    "    plt.show()\n",
    "\n",
    "except FileNotFoundError:\n",
    "    print(\"numpy logo file not found\")"
   ]
  },
  {
   "cell_type": "code",
   "execution_count": null,
   "id": "014d8fe0-1432-4df7-86df-725436272f1f",
   "metadata": {},
   "outputs": [],
   "source": []
  }
 ],
 "metadata": {
  "kernelspec": {
   "display_name": "Python 3.13.3",
   "language": "python",
   "name": "pyenv-3.13.3"
  },
  "language_info": {
   "codemirror_mode": {
    "name": "ipython",
    "version": 3
   },
   "file_extension": ".py",
   "mimetype": "text/x-python",
   "name": "python",
   "nbconvert_exporter": "python",
   "pygments_lexer": "ipython3",
   "version": "3.13.3"
  }
 },
 "nbformat": 4,
 "nbformat_minor": 5
}
